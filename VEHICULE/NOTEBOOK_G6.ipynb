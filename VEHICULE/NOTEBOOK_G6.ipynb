{
 "cells": [
  {
   "cell_type": "markdown",
   "id": "d1a7b44c",
   "metadata": {},
   "source": [
    "# Importation"
   ]
  },
  {
   "cell_type": "code",
   "execution_count": 1,
   "id": "cf2583be",
   "metadata": {},
   "outputs": [],
   "source": [
    "#pip install pyspark (182MB)\n",
    "\n",
    "# pip install pandas"
   ]
  },
  {
   "cell_type": "code",
   "execution_count": 295,
   "id": "d6331be5",
   "metadata": {},
   "outputs": [],
   "source": [
    "from pyspark import SparkContext\n",
    "from pyspark.sql import SparkSession\n",
    "import pandas as pd\n",
    "import re\n",
    "from pyspark.sql.functions import *\n",
    "import pyspark.sql.functions as f"
   ]
  },
  {
   "cell_type": "code",
   "execution_count": null,
   "id": "f2906bf5",
   "metadata": {},
   "outputs": [],
   "source": [
    "sc = SparkContext()"
   ]
  },
  {
   "cell_type": "code",
   "execution_count": 231,
   "id": "f7dd0969",
   "metadata": {},
   "outputs": [],
   "source": [
    "spark = SparkSession.builder.appName(\"Read CSV\").getOrCreate()\n",
    "\n",
    "# co2 = spark.read.csv(\"CO2/CO2.csv\", header=True, inferSchema=True)\n",
    "# Client1 = spark.read.csv(\"Client1/Clients_61.csv\", header=True, inferSchema=True)"
   ]
  },
  {
   "cell_type": "code",
   "execution_count": 232,
   "id": "a7685373",
   "metadata": {},
   "outputs": [],
   "source": [
    "from pyhive import hive\n",
    "conn = hive.connect(host='localhost', port=10000)\n",
    "cursor = conn.cursor()\n",
    "\n",
    "\n",
    "\n",
    "'''\n",
    "the function takes a table name as argument take do a select to retrieve the data\n",
    "tranform the result into Spark dataframe \n",
    "and transform the columns\n",
    "'''\n",
    "def import_data(table_name):\n",
    "    cursor.execute(f\"SELECT * FROM {table_name}\")\n",
    "    result = cursor.fetchall()\n",
    "    data = pd.DataFrame(result, columns=[desc[0] for desc in cursor.description])\n",
    "    # Column transformation\n",
    "    col = data.columns\n",
    "    col = col.str.replace(f'{table_name}.', '')\n",
    "    data.columns = col\n",
    "    data = spark.createDataFrame(data)\n",
    "\n",
    "    return data"
   ]
  },
  {
   "cell_type": "markdown",
   "id": "dc68c823",
   "metadata": {},
   "source": [
    "## IMPORT CO2"
   ]
  },
  {
   "cell_type": "code",
   "execution_count": 286,
   "id": "2a1bde8d",
   "metadata": {},
   "outputs": [],
   "source": [
    "co2 = import_data('co2_hive_ext')\n",
    "co2_map = import_data('co2_hive_ext')"
   ]
  },
  {
   "cell_type": "code",
   "execution_count": 234,
   "id": "ae0ceb4a",
   "metadata": {},
   "outputs": [
    {
     "name": "stdout",
     "output_type": "stream",
     "text": [
      "+---+--------------------+---------------+-------------+-----------+\n",
      "| id|       marque_modele|    bonus_malus| rejetsco2gkm|coutenergie|\n",
      "+---+--------------------+---------------+-------------+-----------+\n",
      "|  2|AUDI E-TRON SPORT...|  -6Â 000â‚¬Â 1|            0|   319Â â‚¬|\n",
      "|  3|AUDI E-TRON SPORT...|  -6Â 000â‚¬Â 1|            0|   356Â â‚¬|\n",
      "|  4|AUDI E-TRON 55 (4...|  -6Â 000â‚¬Â 1|            0|   357Â â‚¬|\n",
      "|  5|AUDI E-TRON 50 (3...|  -6Â 000â‚¬Â 1|            0|   356Â â‚¬|\n",
      "|  6|       BMW i3 120 Ah|  -6Â 000â‚¬Â 1|            0|   204Â â‚¬|\n",
      "|  7|      BMW i3s 120 Ah|  -6Â 000â‚¬Â 1|            0|   204Â â‚¬|\n",
      "|  8|    CITROEN BERLINGO|  -6Â 000â‚¬Â 1|            0|   203Â â‚¬|\n",
      "|  9|      CITROEN C-ZERO|  -6Â 000â‚¬Â 1|            0|   491Â â‚¬|\n",
      "| 10|DS DS3 CROSSBACK ...|  -6Â 000â‚¬Â 1|            0|   251Â â‚¬|\n",
      "| 11|HYUNDAI KONA elec...|  -6Â 000â‚¬Â 1|            0|   205Â â‚¬|\n",
      "| 12|HYUNDAI KONA elec...|  -6Â 000â‚¬Â 1|            0|   205Â â‚¬|\n",
      "| 13|JAGUAR I-PACE EV4...|  -6Â 000â‚¬Â 1|            0|   271Â â‚¬|\n",
      "| 14|\"KIA e-NIRO Moteu...| 150kW (204ch)\"|-6Â 000â‚¬Â 1|          0|\n",
      "| 15|\"KIA e-NIRO Moteu...| 100kW (136ch)\"|-6Â 000â‚¬Â 1|          0|\n",
      "| 16|KIA SOUL Moteur Ã...|  -6Â 000â‚¬Â 1|            0|   214Â â‚¬|\n",
      "| 17|KIA SOUL Moteur Ã...|  -6Â 000â‚¬Â 1|            0|   214Â â‚¬|\n",
      "| 18|MERCEDES EQC 400 ...|  -6Â 000â‚¬Â 1|            0|   291Â â‚¬|\n",
      "| 19|MERCEDES VITO Tou...|  -6Â 000â‚¬Â 1|            0|   411Â â‚¬|\n",
      "| 20|MERCEDES VITO Tou...|  -6Â 000â‚¬Â 1|            0|   411Â â‚¬|\n",
      "| 21|MINI MINI Cooper ...|  -6Â 000â‚¬Â 1|            0|   199Â â‚¬|\n",
      "+---+--------------------+---------------+-------------+-----------+\n",
      "only showing top 20 rows\n",
      "\n"
     ]
    }
   ],
   "source": [
    "co2.show()"
   ]
  },
  {
   "cell_type": "code",
   "execution_count": 235,
   "id": "473a1a01",
   "metadata": {},
   "outputs": [],
   "source": [
    "co2 = co2.filter((f.col(\"bonus_malus\") != \" 150kW (204ch)\\\"\") & (f.col(\"bonus_malus\") != ' 100kW (136ch)\"'))\n"
   ]
  },
  {
   "cell_type": "code",
   "execution_count": 236,
   "id": "38cc9c2c",
   "metadata": {},
   "outputs": [
    {
     "name": "stdout",
     "output_type": "stream",
     "text": [
      "+---+--------------------+-------------+------------+-----------+\n",
      "| id|       marque_modele|  bonus_malus|rejetsco2gkm|coutenergie|\n",
      "+---+--------------------+-------------+------------+-----------+\n",
      "|  2|AUDI E-TRON SPORT...|-6Â 000â‚¬Â 1|           0|   319Â â‚¬|\n",
      "|  3|AUDI E-TRON SPORT...|-6Â 000â‚¬Â 1|           0|   356Â â‚¬|\n",
      "|  4|AUDI E-TRON 55 (4...|-6Â 000â‚¬Â 1|           0|   357Â â‚¬|\n",
      "|  5|AUDI E-TRON 50 (3...|-6Â 000â‚¬Â 1|           0|   356Â â‚¬|\n",
      "|  6|       BMW i3 120 Ah|-6Â 000â‚¬Â 1|           0|   204Â â‚¬|\n",
      "|  7|      BMW i3s 120 Ah|-6Â 000â‚¬Â 1|           0|   204Â â‚¬|\n",
      "|  8|    CITROEN BERLINGO|-6Â 000â‚¬Â 1|           0|   203Â â‚¬|\n",
      "|  9|      CITROEN C-ZERO|-6Â 000â‚¬Â 1|           0|   491Â â‚¬|\n",
      "| 10|DS DS3 CROSSBACK ...|-6Â 000â‚¬Â 1|           0|   251Â â‚¬|\n",
      "| 11|HYUNDAI KONA elec...|-6Â 000â‚¬Â 1|           0|   205Â â‚¬|\n",
      "| 12|HYUNDAI KONA elec...|-6Â 000â‚¬Â 1|           0|   205Â â‚¬|\n",
      "| 13|JAGUAR I-PACE EV4...|-6Â 000â‚¬Â 1|           0|   271Â â‚¬|\n",
      "| 16|KIA SOUL Moteur Ã...|-6Â 000â‚¬Â 1|           0|   214Â â‚¬|\n",
      "| 17|KIA SOUL Moteur Ã...|-6Â 000â‚¬Â 1|           0|   214Â â‚¬|\n",
      "| 18|MERCEDES EQC 400 ...|-6Â 000â‚¬Â 1|           0|   291Â â‚¬|\n",
      "| 19|MERCEDES VITO Tou...|-6Â 000â‚¬Â 1|           0|   411Â â‚¬|\n",
      "| 20|MERCEDES VITO Tou...|-6Â 000â‚¬Â 1|           0|   411Â â‚¬|\n",
      "| 21|MINI MINI Cooper ...|-6Â 000â‚¬Â 1|           0|   199Â â‚¬|\n",
      "| 23|NISSAN Nouvelle N...|-6Â 000â‚¬Â 1|           0|   155Â â‚¬|\n",
      "| 24|NISSAN Nouvelle N...|-6Â 000â‚¬Â 1|           0|   177Â â‚¬|\n",
      "+---+--------------------+-------------+------------+-----------+\n",
      "only showing top 20 rows\n",
      "\n"
     ]
    }
   ],
   "source": [
    "co2.show()"
   ]
  },
  {
   "cell_type": "markdown",
   "id": "090af324",
   "metadata": {},
   "source": [
    "# 1- Division entre marque et modele"
   ]
  },
  {
   "cell_type": "code",
   "execution_count": 237,
   "id": "6d3a944a",
   "metadata": {},
   "outputs": [],
   "source": [
    "split_col = split(co2['marque_modele'], ' ')"
   ]
  },
  {
   "cell_type": "code",
   "execution_count": 238,
   "id": "bdc88e1b",
   "metadata": {},
   "outputs": [],
   "source": [
    "marque = split_col.getItem(0)"
   ]
  },
  {
   "cell_type": "code",
   "execution_count": 239,
   "id": "cbf0e403",
   "metadata": {},
   "outputs": [],
   "source": [
    "co2 = co2.withColumn('marque', marque)"
   ]
  },
  {
   "cell_type": "code",
   "execution_count": 240,
   "id": "c3e54998",
   "metadata": {},
   "outputs": [
    {
     "name": "stdout",
     "output_type": "stream",
     "text": [
      "+----------+\n",
      "|    marque|\n",
      "+----------+\n",
      "|  MERCEDES|\n",
      "|   PORSCHE|\n",
      "|   HYUNDAI|\n",
      "|    TOYOTA|\n",
      "|     SKODA|\n",
      "|    NISSAN|\n",
      "|      LAND|\n",
      "|   CITROEN|\n",
      "|   BENTLEY|\n",
      "|      AUDI|\n",
      "|      MINI|\n",
      "|   PEUGEOT|\n",
      "|    JAGUAR|\n",
      "|     VOLVO|\n",
      "|     TESLA|\n",
      "|       BMW|\n",
      "|VOLKSWAGEN|\n",
      "|       KIA|\n",
      "|     SMART|\n",
      "|   RENAULT|\n",
      "+----------+\n",
      "only showing top 20 rows\n",
      "\n"
     ]
    }
   ],
   "source": [
    "co2.select(\"marque\").distinct().show()"
   ]
  },
  {
   "cell_type": "code",
   "execution_count": 241,
   "id": "4df4bb76",
   "metadata": {},
   "outputs": [],
   "source": [
    "co2 = co2.withColumn(\"marque\", regexp_replace(\"marque\", \"\\\"\", \"\"))"
   ]
  },
  {
   "cell_type": "code",
   "execution_count": 242,
   "id": "2212cba1",
   "metadata": {
    "scrolled": true
   },
   "outputs": [
    {
     "name": "stdout",
     "output_type": "stream",
     "text": [
      "+----------+\n",
      "|    marque|\n",
      "+----------+\n",
      "|  MERCEDES|\n",
      "|   PORSCHE|\n",
      "|   HYUNDAI|\n",
      "|    TOYOTA|\n",
      "|     SKODA|\n",
      "|    NISSAN|\n",
      "|      LAND|\n",
      "|   CITROEN|\n",
      "|   BENTLEY|\n",
      "|      AUDI|\n",
      "|      MINI|\n",
      "|   PEUGEOT|\n",
      "|    JAGUAR|\n",
      "|     VOLVO|\n",
      "|     TESLA|\n",
      "|       BMW|\n",
      "|VOLKSWAGEN|\n",
      "|       KIA|\n",
      "|     SMART|\n",
      "|   RENAULT|\n",
      "+----------+\n",
      "only showing top 20 rows\n",
      "\n"
     ]
    }
   ],
   "source": [
    "co2.select(\"marque\").distinct().show()"
   ]
  },
  {
   "cell_type": "code",
   "execution_count": 243,
   "id": "1259c77a",
   "metadata": {},
   "outputs": [],
   "source": [
    "co2 = co2.withColumn(\n",
    "    \"model\",\n",
    "    expr(\"substring(`marque_modele`, length(`Marque`) + 2)\")\n",
    ")"
   ]
  },
  {
   "cell_type": "code",
   "execution_count": 244,
   "id": "b7109472",
   "metadata": {
    "scrolled": true
   },
   "outputs": [
    {
     "name": "stdout",
     "output_type": "stream",
     "text": [
      "+--------------------+\n",
      "|               model|\n",
      "+--------------------+\n",
      "|E-TRON SPORTBACK ...|\n",
      "|E-TRON SPORTBACK ...|\n",
      "|E-TRON 55 (408ch)...|\n",
      "|E-TRON 50 (313ch)...|\n",
      "|           i3 120 Ah|\n",
      "|          i3s 120 Ah|\n",
      "|            BERLINGO|\n",
      "|              C-ZERO|\n",
      "|DS3 CROSSBACK E-T...|\n",
      "|KONA electric 64 kWh|\n",
      "|KONA electric 39 kWh|\n",
      "|I-PACE EV400 (400...|\n",
      "|SOUL Moteur ÃƒÂ©l...|\n",
      "|SOUL Moteur ÃƒÂ©l...|\n",
      "|      EQC 400 4MATIC|\n",
      "|VITO Tourer long ...|\n",
      "|VITO Tourer extra...|\n",
      "|MINI Cooper SE Ha...|\n",
      "|Nouvelle NISSAN LEAF|\n",
      "|Nouvelle NISSAN LEAF|\n",
      "+--------------------+\n",
      "only showing top 20 rows\n",
      "\n"
     ]
    }
   ],
   "source": [
    "co2.select(\"model\").show()"
   ]
  },
  {
   "cell_type": "code",
   "execution_count": 245,
   "id": "51cb5b59",
   "metadata": {},
   "outputs": [],
   "source": [
    "co2 = co2.drop(\"marque_modele\")"
   ]
  },
  {
   "cell_type": "code",
   "execution_count": 246,
   "id": "557c5866",
   "metadata": {},
   "outputs": [],
   "source": [
    "### co2.show()\"\""
   ]
  },
  {
   "cell_type": "markdown",
   "id": "1dcc4dab",
   "metadata": {},
   "source": [
    "# Traitement des valeur erronées et manquante sur Bonus / Malus"
   ]
  },
  {
   "cell_type": "code",
   "execution_count": 247,
   "id": "602cbcc9",
   "metadata": {},
   "outputs": [],
   "source": [
    "# co2.filter(col(\"bonus_malus\").isNull()).show()"
   ]
  },
  {
   "cell_type": "code",
   "execution_count": 248,
   "id": "b08a6c3e",
   "metadata": {},
   "outputs": [
    {
     "name": "stdout",
     "output_type": "stream",
     "text": [
      "+-------------+\n",
      "|  bonus_malus|\n",
      "+-------------+\n",
      "|   +7Â 613â‚¬|\n",
      "|-6Â 000â‚¬Â 1|\n",
      "|   +7Â 890â‚¬|\n",
      "|   +7Â 340â‚¬|\n",
      "|   +6Â 810â‚¬|\n",
      "|            -|\n",
      "|   +7Â 073â‚¬|\n",
      "|   +8Â 460â‚¬|\n",
      "|   +8Â 173â‚¬|\n",
      "|   +8Â 753â‚¬|\n",
      "+-------------+\n",
      "\n"
     ]
    }
   ],
   "source": [
    "co2.select('bonus_malus').distinct().show()"
   ]
  },
  {
   "cell_type": "code",
   "execution_count": 249,
   "id": "9f453c5e",
   "metadata": {},
   "outputs": [
    {
     "name": "stdout",
     "output_type": "stream",
     "text": [
      "+-------------+\n",
      "|  bonus_malus|\n",
      "+-------------+\n",
      "|   +7Â 613â‚¬|\n",
      "|-6Â 000â‚¬Â 1|\n",
      "|   +7Â 890â‚¬|\n",
      "|   +7Â 340â‚¬|\n",
      "|   +6Â 810â‚¬|\n",
      "|            -|\n",
      "|   +7Â 073â‚¬|\n",
      "|   +8Â 460â‚¬|\n",
      "|   +8Â 173â‚¬|\n",
      "|   +8Â 753â‚¬|\n",
      "+-------------+\n",
      "\n"
     ]
    }
   ],
   "source": [
    "co2.select('bonus_malus').distinct().show()"
   ]
  },
  {
   "cell_type": "code",
   "execution_count": 250,
   "id": "a567f80a",
   "metadata": {},
   "outputs": [],
   "source": [
    "co2 = co2.withColumn(\"bonus_malus\", regexp_replace(\"bonus_malus\", \"[^\\\\d-]+\", \"\").cast(\"int\"))"
   ]
  },
  {
   "cell_type": "code",
   "execution_count": 251,
   "id": "09d9d6d8",
   "metadata": {},
   "outputs": [
    {
     "name": "stdout",
     "output_type": "stream",
     "text": [
      "+-----------+\n",
      "|bonus_malus|\n",
      "+-----------+\n",
      "|       7340|\n",
      "|       7613|\n",
      "|       6810|\n",
      "|       7890|\n",
      "|       null|\n",
      "|       7073|\n",
      "|     -60001|\n",
      "|       8460|\n",
      "|       8753|\n",
      "|       8173|\n",
      "+-----------+\n",
      "\n"
     ]
    }
   ],
   "source": [
    "co2.select('bonus_malus').distinct().show()"
   ]
  },
  {
   "cell_type": "code",
   "execution_count": 252,
   "id": "88836119",
   "metadata": {},
   "outputs": [],
   "source": [
    "co2 = co2.withColumn(\"bonus_malus\", f.when(f.col(\"bonus_malus\") == -60001, -6000).otherwise(f.col(\"bonus_malus\")))\n"
   ]
  },
  {
   "cell_type": "code",
   "execution_count": 253,
   "id": "7320f38d",
   "metadata": {},
   "outputs": [
    {
     "name": "stdout",
     "output_type": "stream",
     "text": [
      "+---+-----------+------------+-----------+--------+--------------------+\n",
      "| id|bonus_malus|rejetsco2gkm|coutenergie|  marque|               model|\n",
      "+---+-----------+------------+-----------+--------+--------------------+\n",
      "|  2|      -6000|           0|   319Â â‚¬|    AUDI|E-TRON SPORTBACK ...|\n",
      "|  3|      -6000|           0|   356Â â‚¬|    AUDI|E-TRON SPORTBACK ...|\n",
      "|  4|      -6000|           0|   357Â â‚¬|    AUDI|E-TRON 55 (408ch)...|\n",
      "|  5|      -6000|           0|   356Â â‚¬|    AUDI|E-TRON 50 (313ch)...|\n",
      "|  6|      -6000|           0|   204Â â‚¬|     BMW|           i3 120 Ah|\n",
      "|  7|      -6000|           0|   204Â â‚¬|     BMW|          i3s 120 Ah|\n",
      "|  8|      -6000|           0|   203Â â‚¬| CITROEN|            BERLINGO|\n",
      "|  9|      -6000|           0|   491Â â‚¬| CITROEN|              C-ZERO|\n",
      "| 10|      -6000|           0|   251Â â‚¬|      DS|DS3 CROSSBACK E-T...|\n",
      "| 11|      -6000|           0|   205Â â‚¬| HYUNDAI|KONA electric 64 kWh|\n",
      "| 12|      -6000|           0|   205Â â‚¬| HYUNDAI|KONA electric 39 kWh|\n",
      "| 13|      -6000|           0|   271Â â‚¬|  JAGUAR|I-PACE EV400 (400...|\n",
      "| 16|      -6000|           0|   214Â â‚¬|     KIA|SOUL Moteur ÃƒÂ©l...|\n",
      "| 17|      -6000|           0|   214Â â‚¬|     KIA|SOUL Moteur ÃƒÂ©l...|\n",
      "| 18|      -6000|           0|   291Â â‚¬|MERCEDES|      EQC 400 4MATIC|\n",
      "| 19|      -6000|           0|   411Â â‚¬|MERCEDES|VITO Tourer long ...|\n",
      "| 20|      -6000|           0|   411Â â‚¬|MERCEDES|VITO Tourer extra...|\n",
      "| 21|      -6000|           0|   199Â â‚¬|    MINI|MINI Cooper SE Ha...|\n",
      "| 23|      -6000|           0|   155Â â‚¬|  NISSAN|Nouvelle NISSAN LEAF|\n",
      "| 24|      -6000|           0|   177Â â‚¬|  NISSAN|Nouvelle NISSAN LEAF|\n",
      "+---+-----------+------------+-----------+--------+--------------------+\n",
      "only showing top 20 rows\n",
      "\n"
     ]
    }
   ],
   "source": [
    "co2.show()"
   ]
  },
  {
   "cell_type": "code",
   "execution_count": 254,
   "id": "07ae0fdc",
   "metadata": {},
   "outputs": [],
   "source": [
    "# Calculate the mode of the column\n",
    "mode_value = co2.groupBy('bonus_malus').count().sort(f.col('count').desc()).select('bonus_malus').first()[0]\n",
    "\n",
    "# Replace missing values with the mode\n",
    "co2 = co2.fillna({'bonus_malus': mode_value})"
   ]
  },
  {
   "cell_type": "code",
   "execution_count": 255,
   "id": "ccdcc77c",
   "metadata": {},
   "outputs": [
    {
     "data": {
      "text/plain": [
       "8753"
      ]
     },
     "execution_count": 255,
     "metadata": {},
     "output_type": "execute_result"
    }
   ],
   "source": [
    "mode_value"
   ]
  },
  {
   "cell_type": "code",
   "execution_count": 256,
   "id": "dcb365fa",
   "metadata": {},
   "outputs": [
    {
     "name": "stdout",
     "output_type": "stream",
     "text": [
      "+-----------+\n",
      "|bonus_malus|\n",
      "+-----------+\n",
      "|       7340|\n",
      "|       7613|\n",
      "|      -6000|\n",
      "|       6810|\n",
      "|       7890|\n",
      "|       8753|\n",
      "|       7073|\n",
      "|       8460|\n",
      "|       8173|\n",
      "+-----------+\n",
      "\n"
     ]
    }
   ],
   "source": [
    "co2.select('bonus_malus').distinct().show()"
   ]
  },
  {
   "cell_type": "code",
   "execution_count": 257,
   "id": "6adbc713",
   "metadata": {},
   "outputs": [],
   "source": [
    "# #from pyspark.sql.functions import concat, format_string, col\n",
    "\n",
    "# co2 = co2.withColumn(\"Bonus_Malus\", format_string(\"%d€\", co2[\"Bonus / Malus\"]))\n",
    "# co2 = co2.drop(\"Bonus / Malus\")"
   ]
  },
  {
   "cell_type": "markdown",
   "id": "ce212357",
   "metadata": {},
   "source": [
    "# Traitement sur Cout Energie"
   ]
  },
  {
   "cell_type": "code",
   "execution_count": 258,
   "id": "7d3e7b68",
   "metadata": {},
   "outputs": [
    {
     "name": "stdout",
     "output_type": "stream",
     "text": [
      "+-----------+\n",
      "|coutenergie|\n",
      "+-----------+\n",
      "|    67Â â‚¬|\n",
      "|   247Â â‚¬|\n",
      "|    66Â â‚¬|\n",
      "|    85Â â‚¬|\n",
      "|    47Â â‚¬|\n",
      "|    43Â â‚¬|\n",
      "|   221Â â‚¬|\n",
      "|   204Â â‚¬|\n",
      "|   214Â â‚¬|\n",
      "|    74Â â‚¬|\n",
      "|   185Â â‚¬|\n",
      "|   199Â â‚¬|\n",
      "|    77Â â‚¬|\n",
      "|   491Â â‚¬|\n",
      "|    78Â â‚¬|\n",
      "|   206Â â‚¬|\n",
      "|   725Â â‚¬|\n",
      "|   271Â â‚¬|\n",
      "|   177Â â‚¬|\n",
      "|   357Â â‚¬|\n",
      "+-----------+\n",
      "only showing top 20 rows\n",
      "\n"
     ]
    }
   ],
   "source": [
    "co2.select('coutenergie').distinct().show()"
   ]
  },
  {
   "cell_type": "code",
   "execution_count": 259,
   "id": "5911efd0",
   "metadata": {},
   "outputs": [
    {
     "data": {
      "text/plain": [
       "['id', 'bonus_malus', 'rejetsco2gkm', 'coutenergie', 'marque', 'model']"
      ]
     },
     "execution_count": 259,
     "metadata": {},
     "output_type": "execute_result"
    }
   ],
   "source": [
    "co2.columns"
   ]
  },
  {
   "cell_type": "code",
   "execution_count": 260,
   "id": "4c9e4398",
   "metadata": {},
   "outputs": [],
   "source": [
    "co2 = co2.withColumn(\"coutenergie\", regexp_replace(\"coutenergie\", \"[^\\\\d-]+\", \"\").cast(\"int\"))"
   ]
  },
  {
   "cell_type": "code",
   "execution_count": 261,
   "id": "e5fe2b0d",
   "metadata": {},
   "outputs": [
    {
     "name": "stdout",
     "output_type": "stream",
     "text": [
      "+-----------+\n",
      "|coutenergie|\n",
      "+-----------+\n",
      "|        251|\n",
      "|         85|\n",
      "|         53|\n",
      "|         78|\n",
      "|        155|\n",
      "|        210|\n",
      "|        271|\n",
      "|        209|\n",
      "|        319|\n",
      "|        725|\n",
      "|         47|\n",
      "|        177|\n",
      "|        185|\n",
      "|        291|\n",
      "|        206|\n",
      "|        715|\n",
      "|        205|\n",
      "|         54|\n",
      "|        491|\n",
      "|        235|\n",
      "+-----------+\n",
      "only showing top 20 rows\n",
      "\n"
     ]
    }
   ],
   "source": [
    "co2.select('coutenergie').distinct().show()"
   ]
  },
  {
   "cell_type": "code",
   "execution_count": 262,
   "id": "b6fe6b1e",
   "metadata": {},
   "outputs": [
    {
     "name": "stdout",
     "output_type": "stream",
     "text": [
      "+------------+\n",
      "|rejetsco2gkm|\n",
      "+------------+\n",
      "|          29|\n",
      "|          69|\n",
      "|          42|\n",
      "|          30|\n",
      "|          85|\n",
      "|          35|\n",
      "|          52|\n",
      "|           0|\n",
      "|          47|\n",
      "|         179|\n",
      "|          43|\n",
      "|          31|\n",
      "|          70|\n",
      "|          26|\n",
      "|          46|\n",
      "|          41|\n",
      "|          55|\n",
      "|          38|\n",
      "|          40|\n",
      "|          58|\n",
      "+------------+\n",
      "only showing top 20 rows\n",
      "\n"
     ]
    }
   ],
   "source": [
    "co2.select('rejetsco2gkm').distinct().show()"
   ]
  },
  {
   "cell_type": "code",
   "execution_count": 263,
   "id": "c579a0c6",
   "metadata": {},
   "outputs": [],
   "source": [
    "co2 = co2.withColumn(\"bonus_malus\", f.when(f.col(\"bonus_malus\") == -60001, -6000).otherwise(f.col(\"bonus_malus\")))\n"
   ]
  },
  {
   "cell_type": "code",
   "execution_count": 264,
   "id": "c46ef8e6",
   "metadata": {},
   "outputs": [],
   "source": [
    "co2 = co2.withColumn(\"bonus_malus\", regexp_replace(\"bonus_malus\", \"[^\\\\d-]+\", \"\").cast(\"int\"))"
   ]
  },
  {
   "cell_type": "code",
   "execution_count": 265,
   "id": "21b8bf0c",
   "metadata": {},
   "outputs": [
    {
     "name": "stdout",
     "output_type": "stream",
     "text": [
      "+-----------+\n",
      "|bonus_malus|\n",
      "+-----------+\n",
      "|       7340|\n",
      "|       7613|\n",
      "|      -6000|\n",
      "|       6810|\n",
      "|       7890|\n",
      "|       8753|\n",
      "|       7073|\n",
      "|       8460|\n",
      "|       8173|\n",
      "+-----------+\n",
      "\n"
     ]
    }
   ],
   "source": [
    "co2.select('bonus_malus').distinct().show()"
   ]
  },
  {
   "cell_type": "code",
   "execution_count": 266,
   "id": "736f0b88",
   "metadata": {},
   "outputs": [
    {
     "name": "stdout",
     "output_type": "stream",
     "text": [
      "+-----------+\n",
      "|coutenergie|\n",
      "+-----------+\n",
      "|        251|\n",
      "|         85|\n",
      "|         53|\n",
      "|         78|\n",
      "|        155|\n",
      "|        210|\n",
      "|        271|\n",
      "|        209|\n",
      "|        319|\n",
      "|        725|\n",
      "|         47|\n",
      "|        177|\n",
      "|        185|\n",
      "|        291|\n",
      "|        206|\n",
      "|        715|\n",
      "|        205|\n",
      "|         54|\n",
      "|        491|\n",
      "|        235|\n",
      "+-----------+\n",
      "only showing top 20 rows\n",
      "\n"
     ]
    }
   ],
   "source": [
    "co2.select('coutenergie').distinct().show()"
   ]
  },
  {
   "cell_type": "code",
   "execution_count": 267,
   "id": "8d265271",
   "metadata": {},
   "outputs": [
    {
     "name": "stdout",
     "output_type": "stream",
     "text": [
      "+----------+\n",
      "|    marque|\n",
      "+----------+\n",
      "|  MERCEDES|\n",
      "|   PORSCHE|\n",
      "|   HYUNDAI|\n",
      "|    TOYOTA|\n",
      "|     SKODA|\n",
      "|    NISSAN|\n",
      "|      LAND|\n",
      "|   CITROEN|\n",
      "|   BENTLEY|\n",
      "|      AUDI|\n",
      "|      MINI|\n",
      "|   PEUGEOT|\n",
      "|    JAGUAR|\n",
      "|     VOLVO|\n",
      "|     TESLA|\n",
      "|       BMW|\n",
      "|VOLKSWAGEN|\n",
      "|       KIA|\n",
      "|     SMART|\n",
      "|   RENAULT|\n",
      "+----------+\n",
      "only showing top 20 rows\n",
      "\n"
     ]
    }
   ],
   "source": [
    "co2.select('marque').distinct().show()"
   ]
  },
  {
   "cell_type": "markdown",
   "id": "4bac6253",
   "metadata": {},
   "source": [
    "# Jointure"
   ]
  },
  {
   "cell_type": "code",
   "execution_count": 268,
   "id": "c7fec1e5",
   "metadata": {},
   "outputs": [],
   "source": [
    "catalogue = import_data('catalogue_hive_ext')"
   ]
  },
  {
   "cell_type": "code",
   "execution_count": 269,
   "id": "a0d6fa30",
   "metadata": {},
   "outputs": [
    {
     "name": "stdout",
     "output_type": "stream",
     "text": [
      "+----------+---------------+---------+-----------+--------+--------+-------+--------+-----+-----+\n",
      "|    marque|            nom|puissance|   longueur|nbplaces|nbportes|couleur|occasion| prix|   id|\n",
      "+----------+---------------+---------+-----------+--------+--------+-------+--------+-----+-----+\n",
      "|     Volvo|         S80 T6|      272|tr�s longue|       5|       5|  blanc|    true|35350|0E-18|\n",
      "|Volkswagen| Touran 2.0 FSI|      150|     longue|       7|       5|  rouge|   false|27340|0E-18|\n",
      "|Volkswagen|   Golf 2.0 FSI|      150|    moyenne|       5|       5|   bleu|   false|22900|0E-18|\n",
      "|      Saab|       9.3 1.8T|      150|     longue|       5|       5|   bleu|    true|27020|0E-18|\n",
      "|      Saab|       9.3 1.8T|      150|     longue|       5|       5|   bleu|   false|38600|0E-18|\n",
      "|   Renault|    Laguna 2.0T|      170|     longue|       5|       5|  blanc|    true|19110|0E-18|\n",
      "|   Renault|    Laguna 2.0T|      170|     longue|       5|       5|   noir|   false|27300|0E-18|\n",
      "|   Renault|    Laguna 2.0T|      170|     longue|       5|       5|  blanc|   false|27300|0E-18|\n",
      "|   Renault|    Espace 2.0T|      165|     longue|       7|       5|  blanc|   false|30350|0E-18|\n",
      "|   Peugeot|       1007 1.4|       75|     courte|       5|       5|   gris|   false|13750|0E-18|\n",
      "|  Mercedes|           S500|      306|tr�s longue|       5|       5|   noir|    true|70910|0E-18|\n",
      "|  Mercedes|           A200|      136|    moyenne|       5|       5|   gris|   false|25900|0E-18|\n",
      "|    Lancia|Ypsilon 1.4 16V|       90|     courte|       5|       3|   gris|    true| 9450|0E-18|\n",
      "|   Hyunda�|     Matrix 1.6|      103|     longue|       7|       5|  blanc|   false|15960|0E-18|\n",
      "|   Hyunda�|     Matrix 1.6|      103|     longue|       7|       5|   gris|   false|15960|0E-18|\n",
      "|     Honda|       FR-V 1.7|      125|     longue|       7|       5|  blanc|   false|19550|0E-18|\n",
      "|      Ford|     Mondeo 1.8|      125|     longue|       5|       5|  blanc|    true|16730|0E-18|\n",
      "|      Ford|     Mondeo 1.8|      125|     longue|       5|       5|   bleu|   false|23900|0E-18|\n",
      "|      Ford|     Mondeo 1.8|      125|     longue|       5|       5|   noir|   false|23900|0E-18|\n",
      "|      Ford|     Mondeo 1.8|      125|     longue|       5|       5|   gris|   false|23900|0E-18|\n",
      "+----------+---------------+---------+-----------+--------+--------+-------+--------+-----+-----+\n",
      "only showing top 20 rows\n",
      "\n"
     ]
    }
   ],
   "source": [
    "catalogue.show()"
   ]
  },
  {
   "cell_type": "code",
   "execution_count": 270,
   "id": "6ada5135",
   "metadata": {},
   "outputs": [
    {
     "name": "stdout",
     "output_type": "stream",
     "text": [
      "+----------+\n",
      "|    marque|\n",
      "+----------+\n",
      "|Volkswagen|\n",
      "|   Peugeot|\n",
      "|    Jaguar|\n",
      "|    Lancia|\n",
      "|      Mini|\n",
      "|       Kia|\n",
      "|     Volvo|\n",
      "|      Saab|\n",
      "|     Honda|\n",
      "|      Audi|\n",
      "|      Seat|\n",
      "|  Mercedes|\n",
      "|   Renault|\n",
      "|       BMW|\n",
      "|     Dacia|\n",
      "|     Skoda|\n",
      "|  Daihatsu|\n",
      "|    Nissan|\n",
      "|      Fiat|\n",
      "|      Ford|\n",
      "|   Hyunda�|\n",
      "+----------+\n",
      "\n"
     ]
    }
   ],
   "source": [
    "catalogue.select('marque').distinct().show(21)"
   ]
  },
  {
   "cell_type": "code",
   "execution_count": 271,
   "id": "e635f888",
   "metadata": {},
   "outputs": [],
   "source": [
    "catalogue = catalogue.withColumn(\"marque\", f.when(f.col(\"marque\") == 'Hyunda�', 'Hyundai').otherwise(f.col(\"marque\")))\n"
   ]
  },
  {
   "cell_type": "code",
   "execution_count": 272,
   "id": "24c2f081",
   "metadata": {},
   "outputs": [
    {
     "name": "stdout",
     "output_type": "stream",
     "text": [
      "+----------+\n",
      "|    marque|\n",
      "+----------+\n",
      "|  MERCEDES|\n",
      "|   PORSCHE|\n",
      "|   HYUNDAI|\n",
      "|    TOYOTA|\n",
      "|     SKODA|\n",
      "|    NISSAN|\n",
      "|      LAND|\n",
      "|   CITROEN|\n",
      "|   BENTLEY|\n",
      "|      AUDI|\n",
      "|      MINI|\n",
      "|   PEUGEOT|\n",
      "|    JAGUAR|\n",
      "|     VOLVO|\n",
      "|     TESLA|\n",
      "|       BMW|\n",
      "|VOLKSWAGEN|\n",
      "|       KIA|\n",
      "|     SMART|\n",
      "|   RENAULT|\n",
      "|        DS|\n",
      "+----------+\n",
      "only showing top 21 rows\n",
      "\n"
     ]
    }
   ],
   "source": [
    "co2.select('marque').distinct().show(21)"
   ]
  },
  {
   "cell_type": "code",
   "execution_count": 273,
   "id": "2a6f1244",
   "metadata": {},
   "outputs": [],
   "source": [
    "catalogue = catalogue.withColumn(\"marque\", upper(catalogue[\"marque\"]))"
   ]
  },
  {
   "cell_type": "code",
   "execution_count": 274,
   "id": "3a7f85ef",
   "metadata": {},
   "outputs": [
    {
     "name": "stdout",
     "output_type": "stream",
     "text": [
      "+----------+\n",
      "|    marque|\n",
      "+----------+\n",
      "|  MERCEDES|\n",
      "|   PORSCHE|\n",
      "|   HYUNDAI|\n",
      "|    TOYOTA|\n",
      "|     SKODA|\n",
      "|    NISSAN|\n",
      "|      LAND|\n",
      "|   CITROEN|\n",
      "|   BENTLEY|\n",
      "|      AUDI|\n",
      "|      MINI|\n",
      "|   PEUGEOT|\n",
      "|    JAGUAR|\n",
      "|     VOLVO|\n",
      "|     TESLA|\n",
      "|       BMW|\n",
      "|VOLKSWAGEN|\n",
      "|       KIA|\n",
      "|     SMART|\n",
      "|   RENAULT|\n",
      "|        DS|\n",
      "+----------+\n",
      "only showing top 21 rows\n",
      "\n"
     ]
    }
   ],
   "source": [
    "co2.select('marque').distinct().show(21)"
   ]
  },
  {
   "cell_type": "code",
   "execution_count": 275,
   "id": "a7a7f33b",
   "metadata": {},
   "outputs": [],
   "source": [
    "voiture = catalogue.join(co2, \"marque\", \"left\")"
   ]
  },
  {
   "cell_type": "code",
   "execution_count": 276,
   "id": "b2f81553",
   "metadata": {},
   "outputs": [
    {
     "name": "stdout",
     "output_type": "stream",
     "text": [
      "+--------+----+---------+-----------+--------+--------+-------+--------+-----+-----+---+-----------+------------+-----------+--------------------+\n",
      "|  marque| nom|puissance|   longueur|nbplaces|nbportes|couleur|occasion| prix|   id| id|bonus_malus|rejetsco2gkm|coutenergie|               model|\n",
      "+--------+----+---------+-----------+--------+--------+-------+--------+-----+-----+---+-----------+------------+-----------+--------------------+\n",
      "|MERCEDES|S500|      306|tr�s longue|       5|       5|   noir|    true|70910|0E-18|459|       8753|         262|       1051|SPRINTER Combi 31...|\n",
      "|MERCEDES|S500|      306|tr�s longue|       5|       5|   noir|    true|70910|0E-18|458|       8753|         262|       1051|SPRINTER Combi 31...|\n",
      "|MERCEDES|S500|      306|tr�s longue|       5|       5|   noir|    true|70910|0E-18|457|       8753|         260|       1041|SPRINTER Combi 31...|\n",
      "|MERCEDES|S500|      306|tr�s longue|       5|       5|   noir|    true|70910|0E-18|456|       8753|         260|       1041|SPRINTER Combi 31...|\n",
      "|MERCEDES|S500|      306|tr�s longue|       5|       5|   noir|    true|70910|0E-18|455|       8753|         255|       1020|SPRINTER Combi 31...|\n",
      "|MERCEDES|S500|      306|tr�s longue|       5|       5|   noir|    true|70910|0E-18|454|       8753|         255|       1020|SPRINTER Combi 31...|\n",
      "|MERCEDES|S500|      306|tr�s longue|       5|       5|   noir|    true|70910|0E-18|453|       8753|         255|       1020|SPRINTER Combi 31...|\n",
      "|MERCEDES|S500|      306|tr�s longue|       5|       5|   noir|    true|70910|0E-18|452|       8753|         252|       1009|SPRINTER Combi 31...|\n",
      "|MERCEDES|S500|      306|tr�s longue|       5|       5|   noir|    true|70910|0E-18|451|       8753|         252|       1009|SPRINTER Combi 31...|\n",
      "|MERCEDES|S500|      306|tr�s longue|       5|       5|   noir|    true|70910|0E-18|450|       8753|         252|       1009|SPRINTER Combi 31...|\n",
      "|MERCEDES|S500|      306|tr�s longue|       5|       5|   noir|    true|70910|0E-18|449|       8753|         252|       1009|SPRINTER Combi 31...|\n",
      "|MERCEDES|S500|      306|tr�s longue|       5|       5|   noir|    true|70910|0E-18|448|       8753|         252|       1009|SPRINTER Combi 31...|\n",
      "|MERCEDES|S500|      306|tr�s longue|       5|       5|   noir|    true|70910|0E-18|447|       8753|         250|        999|SPRINTER Combi 31...|\n",
      "|MERCEDES|S500|      306|tr�s longue|       5|       5|   noir|    true|70910|0E-18|446|       8753|         250|        999|SPRINTER Combi 31...|\n",
      "|MERCEDES|S500|      306|tr�s longue|       5|       5|   noir|    true|70910|0E-18|445|       8753|         249|        988|SPRINTER Combi 31...|\n",
      "|MERCEDES|S500|      306|tr�s longue|       5|       5|   noir|    true|70910|0E-18|444|       8753|         249|        988|SPRINTER Combi 31...|\n",
      "|MERCEDES|S500|      306|tr�s longue|       5|       5|   noir|    true|70910|0E-18|443|       8753|         246|        988|SPRINTER Combi 31...|\n",
      "|MERCEDES|S500|      306|tr�s longue|       5|       5|   noir|    true|70910|0E-18|441|       8753|         246|        988|SPRINTER Combi 31...|\n",
      "|MERCEDES|S500|      306|tr�s longue|       5|       5|   noir|    true|70910|0E-18|440|       8753|         246|        988|SPRINTER Combi 31...|\n",
      "|MERCEDES|S500|      306|tr�s longue|       5|       5|   noir|    true|70910|0E-18|439|       8753|         245|        978|SPRINTER Combi 31...|\n",
      "+--------+----+---------+-----------+--------+--------+-------+--------+-----+-----+---+-----------+------------+-----------+--------------------+\n",
      "only showing top 20 rows\n",
      "\n"
     ]
    }
   ],
   "source": [
    "voiture.show()"
   ]
  },
  {
   "cell_type": "code",
   "execution_count": 277,
   "id": "4688e886",
   "metadata": {
    "scrolled": true
   },
   "outputs": [
    {
     "data": {
      "text/html": [
       "<div>\n",
       "<style scoped>\n",
       "    .dataframe tbody tr th:only-of-type {\n",
       "        vertical-align: middle;\n",
       "    }\n",
       "\n",
       "    .dataframe tbody tr th {\n",
       "        vertical-align: top;\n",
       "    }\n",
       "\n",
       "    .dataframe thead th {\n",
       "        text-align: right;\n",
       "    }\n",
       "</style>\n",
       "<table border=\"1\" class=\"dataframe\">\n",
       "  <thead>\n",
       "    <tr style=\"text-align: right;\">\n",
       "      <th></th>\n",
       "      <th>marque</th>\n",
       "      <th>nom</th>\n",
       "      <th>puissance</th>\n",
       "      <th>longueur</th>\n",
       "      <th>nbplaces</th>\n",
       "      <th>nbportes</th>\n",
       "      <th>couleur</th>\n",
       "      <th>occasion</th>\n",
       "      <th>prix</th>\n",
       "      <th>id</th>\n",
       "      <th>id</th>\n",
       "      <th>bonus_malus</th>\n",
       "      <th>rejetsco2gkm</th>\n",
       "      <th>coutenergie</th>\n",
       "      <th>model</th>\n",
       "    </tr>\n",
       "  </thead>\n",
       "  <tbody>\n",
       "    <tr>\n",
       "      <th>0</th>\n",
       "      <td>MERCEDES</td>\n",
       "      <td>S500</td>\n",
       "      <td>306</td>\n",
       "      <td>tr�s longue</td>\n",
       "      <td>5</td>\n",
       "      <td>5</td>\n",
       "      <td>noir</td>\n",
       "      <td>True</td>\n",
       "      <td>70910</td>\n",
       "      <td>0E-18</td>\n",
       "      <td>459.0</td>\n",
       "      <td>8753.0</td>\n",
       "      <td>262</td>\n",
       "      <td>1051.0</td>\n",
       "      <td>SPRINTER Combi 319 CDI (190ch) 4x4 PTAC 3500 k...</td>\n",
       "    </tr>\n",
       "    <tr>\n",
       "      <th>1</th>\n",
       "      <td>MERCEDES</td>\n",
       "      <td>S500</td>\n",
       "      <td>306</td>\n",
       "      <td>tr�s longue</td>\n",
       "      <td>5</td>\n",
       "      <td>5</td>\n",
       "      <td>noir</td>\n",
       "      <td>True</td>\n",
       "      <td>70910</td>\n",
       "      <td>0E-18</td>\n",
       "      <td>458.0</td>\n",
       "      <td>8753.0</td>\n",
       "      <td>262</td>\n",
       "      <td>1051.0</td>\n",
       "      <td>SPRINTER Combi 319 CDI (190ch) 4x4 PTAC 3500 k...</td>\n",
       "    </tr>\n",
       "    <tr>\n",
       "      <th>2</th>\n",
       "      <td>MERCEDES</td>\n",
       "      <td>S500</td>\n",
       "      <td>306</td>\n",
       "      <td>tr�s longue</td>\n",
       "      <td>5</td>\n",
       "      <td>5</td>\n",
       "      <td>noir</td>\n",
       "      <td>True</td>\n",
       "      <td>70910</td>\n",
       "      <td>0E-18</td>\n",
       "      <td>457.0</td>\n",
       "      <td>8753.0</td>\n",
       "      <td>260</td>\n",
       "      <td>1041.0</td>\n",
       "      <td>SPRINTER Combi 319 CDI (190ch) 4x4 PTAC 3500 k...</td>\n",
       "    </tr>\n",
       "    <tr>\n",
       "      <th>3</th>\n",
       "      <td>MERCEDES</td>\n",
       "      <td>S500</td>\n",
       "      <td>306</td>\n",
       "      <td>tr�s longue</td>\n",
       "      <td>5</td>\n",
       "      <td>5</td>\n",
       "      <td>noir</td>\n",
       "      <td>True</td>\n",
       "      <td>70910</td>\n",
       "      <td>0E-18</td>\n",
       "      <td>456.0</td>\n",
       "      <td>8753.0</td>\n",
       "      <td>260</td>\n",
       "      <td>1041.0</td>\n",
       "      <td>SPRINTER Combi 319 CDI (190ch) 4x4 PTAC 3500 k...</td>\n",
       "    </tr>\n",
       "    <tr>\n",
       "      <th>4</th>\n",
       "      <td>MERCEDES</td>\n",
       "      <td>S500</td>\n",
       "      <td>306</td>\n",
       "      <td>tr�s longue</td>\n",
       "      <td>5</td>\n",
       "      <td>5</td>\n",
       "      <td>noir</td>\n",
       "      <td>True</td>\n",
       "      <td>70910</td>\n",
       "      <td>0E-18</td>\n",
       "      <td>455.0</td>\n",
       "      <td>8753.0</td>\n",
       "      <td>255</td>\n",
       "      <td>1020.0</td>\n",
       "      <td>SPRINTER Combi 319 CDI (190ch) 4x2 PTAC 3500 k...</td>\n",
       "    </tr>\n",
       "    <tr>\n",
       "      <th>...</th>\n",
       "      <td>...</td>\n",
       "      <td>...</td>\n",
       "      <td>...</td>\n",
       "      <td>...</td>\n",
       "      <td>...</td>\n",
       "      <td>...</td>\n",
       "      <td>...</td>\n",
       "      <td>...</td>\n",
       "      <td>...</td>\n",
       "      <td>...</td>\n",
       "      <td>...</td>\n",
       "      <td>...</td>\n",
       "      <td>...</td>\n",
       "      <td>...</td>\n",
       "      <td>...</td>\n",
       "    </tr>\n",
       "    <tr>\n",
       "      <th>7645</th>\n",
       "      <td>LANCIA</td>\n",
       "      <td>Ypsilon 1.4 16V</td>\n",
       "      <td>90</td>\n",
       "      <td>courte</td>\n",
       "      <td>5</td>\n",
       "      <td>3</td>\n",
       "      <td>bleu</td>\n",
       "      <td>False</td>\n",
       "      <td>13500</td>\n",
       "      <td>0E-18</td>\n",
       "      <td>NaN</td>\n",
       "      <td>NaN</td>\n",
       "      <td>None</td>\n",
       "      <td>NaN</td>\n",
       "      <td>None</td>\n",
       "    </tr>\n",
       "    <tr>\n",
       "      <th>7646</th>\n",
       "      <td>LANCIA</td>\n",
       "      <td>Ypsilon 1.4 16V</td>\n",
       "      <td>90</td>\n",
       "      <td>courte</td>\n",
       "      <td>5</td>\n",
       "      <td>3</td>\n",
       "      <td>gris</td>\n",
       "      <td>False</td>\n",
       "      <td>13500</td>\n",
       "      <td>0E-18</td>\n",
       "      <td>NaN</td>\n",
       "      <td>NaN</td>\n",
       "      <td>None</td>\n",
       "      <td>NaN</td>\n",
       "      <td>None</td>\n",
       "    </tr>\n",
       "    <tr>\n",
       "      <th>7647</th>\n",
       "      <td>LANCIA</td>\n",
       "      <td>Ypsilon 1.4 16V</td>\n",
       "      <td>90</td>\n",
       "      <td>courte</td>\n",
       "      <td>5</td>\n",
       "      <td>3</td>\n",
       "      <td>rouge</td>\n",
       "      <td>True</td>\n",
       "      <td>9450</td>\n",
       "      <td>0E-18</td>\n",
       "      <td>NaN</td>\n",
       "      <td>NaN</td>\n",
       "      <td>None</td>\n",
       "      <td>NaN</td>\n",
       "      <td>None</td>\n",
       "    </tr>\n",
       "    <tr>\n",
       "      <th>7648</th>\n",
       "      <td>LANCIA</td>\n",
       "      <td>Ypsilon 1.4 16V</td>\n",
       "      <td>90</td>\n",
       "      <td>courte</td>\n",
       "      <td>5</td>\n",
       "      <td>3</td>\n",
       "      <td>bleu</td>\n",
       "      <td>True</td>\n",
       "      <td>9450</td>\n",
       "      <td>0E-18</td>\n",
       "      <td>NaN</td>\n",
       "      <td>NaN</td>\n",
       "      <td>None</td>\n",
       "      <td>NaN</td>\n",
       "      <td>None</td>\n",
       "    </tr>\n",
       "    <tr>\n",
       "      <th>7649</th>\n",
       "      <td>LANCIA</td>\n",
       "      <td>Ypsilon 1.4 16V</td>\n",
       "      <td>90</td>\n",
       "      <td>courte</td>\n",
       "      <td>5</td>\n",
       "      <td>3</td>\n",
       "      <td>rouge</td>\n",
       "      <td>False</td>\n",
       "      <td>13500</td>\n",
       "      <td>0E-18</td>\n",
       "      <td>NaN</td>\n",
       "      <td>NaN</td>\n",
       "      <td>None</td>\n",
       "      <td>NaN</td>\n",
       "      <td>None</td>\n",
       "    </tr>\n",
       "  </tbody>\n",
       "</table>\n",
       "<p>7650 rows × 15 columns</p>\n",
       "</div>"
      ],
      "text/plain": [
       "        marque              nom  puissance     longueur  nbplaces  nbportes  \\\n",
       "0     MERCEDES             S500        306  tr�s longue         5         5   \n",
       "1     MERCEDES             S500        306  tr�s longue         5         5   \n",
       "2     MERCEDES             S500        306  tr�s longue         5         5   \n",
       "3     MERCEDES             S500        306  tr�s longue         5         5   \n",
       "4     MERCEDES             S500        306  tr�s longue         5         5   \n",
       "...        ...              ...        ...          ...       ...       ...   \n",
       "7645    LANCIA  Ypsilon 1.4 16V         90       courte         5         3   \n",
       "7646    LANCIA  Ypsilon 1.4 16V         90       courte         5         3   \n",
       "7647    LANCIA  Ypsilon 1.4 16V         90       courte         5         3   \n",
       "7648    LANCIA  Ypsilon 1.4 16V         90       courte         5         3   \n",
       "7649    LANCIA  Ypsilon 1.4 16V         90       courte         5         3   \n",
       "\n",
       "     couleur  occasion   prix     id     id  bonus_malus rejetsco2gkm  \\\n",
       "0       noir      True  70910  0E-18  459.0       8753.0          262   \n",
       "1       noir      True  70910  0E-18  458.0       8753.0          262   \n",
       "2       noir      True  70910  0E-18  457.0       8753.0          260   \n",
       "3       noir      True  70910  0E-18  456.0       8753.0          260   \n",
       "4       noir      True  70910  0E-18  455.0       8753.0          255   \n",
       "...      ...       ...    ...    ...    ...          ...          ...   \n",
       "7645    bleu     False  13500  0E-18    NaN          NaN         None   \n",
       "7646    gris     False  13500  0E-18    NaN          NaN         None   \n",
       "7647   rouge      True   9450  0E-18    NaN          NaN         None   \n",
       "7648    bleu      True   9450  0E-18    NaN          NaN         None   \n",
       "7649   rouge     False  13500  0E-18    NaN          NaN         None   \n",
       "\n",
       "      coutenergie                                              model  \n",
       "0          1051.0  SPRINTER Combi 319 CDI (190ch) 4x4 PTAC 3500 k...  \n",
       "1          1051.0  SPRINTER Combi 319 CDI (190ch) 4x4 PTAC 3500 k...  \n",
       "2          1041.0  SPRINTER Combi 319 CDI (190ch) 4x4 PTAC 3500 k...  \n",
       "3          1041.0  SPRINTER Combi 319 CDI (190ch) 4x4 PTAC 3500 k...  \n",
       "4          1020.0  SPRINTER Combi 319 CDI (190ch) 4x2 PTAC 3500 k...  \n",
       "...           ...                                                ...  \n",
       "7645          NaN                                               None  \n",
       "7646          NaN                                               None  \n",
       "7647          NaN                                               None  \n",
       "7648          NaN                                               None  \n",
       "7649          NaN                                               None  \n",
       "\n",
       "[7650 rows x 15 columns]"
      ]
     },
     "execution_count": 277,
     "metadata": {},
     "output_type": "execute_result"
    }
   ],
   "source": [
    "voiture.toPandas()"
   ]
  },
  {
   "cell_type": "markdown",
   "id": "e72d6948",
   "metadata": {},
   "source": [
    "## TRAITEMENT AVEC MAP REDUCE"
   ]
  },
  {
   "cell_type": "code",
   "execution_count": 296,
   "id": "e216a3e9",
   "metadata": {},
   "outputs": [],
   "source": [
    "def mapper(line):  \n",
    "    line = tuple(line)\n",
    "\n",
    "    # colonne marque\n",
    "    marque =  line[1].split(\" \")[0].replace(\"\\\"\", \"\").capitalize() #replace quote near Volswagen\n",
    "    # colonne Malus/Bonus\n",
    "    if line[2] in [\" 150kW (204ch)\\\"\", \" 100kW (136ch)\\\"\"]:\n",
    "        return (None, None)\n",
    "#     malus_bonus = line[2].strip().replace(\"¬Â\\xa01\", \"\").replace(r\"[\\d-]+\", \"\").replace(\"€\", \"\").replace(\"\\\"\", \"\")\n",
    "    malus_bonus = line[2].strip().replace(\"¬Â\\xa01\", \"\").replace(r\"[\\d-]+\", \"\").replace(\"€\", \"\").replace(\"\\\"\", \"\")\n",
    "\n",
    "    malus_bonus = ''.join(re.findall(r\"[\\d-]+\", malus_bonus))\n",
    "    \n",
    "#     missing values bonus_malus\n",
    "    malus_bonus = \"0\" if len(malus_bonus) == 1 else malus_bonus\n",
    "    # colonne cout energie\n",
    "    cout = line[-1]\n",
    "    cout_splitted = cout.replace('Â', '').split()\n",
    "    cout = cout_splitted[0] + cout_splitted[1] if len(cout_splitted) == 3 else cout_splitted[0] if len(cout_splitted) == 2 else cout\n",
    "    cout = cout.encode('ascii', 'ignore').decode('ascii').replace(',', '')\n",
    "    \n",
    "    # colonne Rejet CO2\n",
    "    rejet = line[3]\n",
    "\n",
    "    malus_bonusInt = int(malus_bonus)\n",
    "    rejetInt = (rejet)\n",
    "    coutInt = int(cout)\n",
    "\n",
    "    # on crée le couple key value avec la marque comme key\n",
    "    new_value = f\"{malus_bonusInt}|{rejetInt}|{coutInt}\"\n",
    "    return (marque, new_value)"
   ]
  },
  {
   "cell_type": "code",
   "execution_count": 297,
   "id": "6b7958a6",
   "metadata": {},
   "outputs": [],
   "source": [
    "co2_mapped = co2_map.rdd.map(mapper)"
   ]
  },
  {
   "cell_type": "code",
   "execution_count": 298,
   "id": "5c8673e7",
   "metadata": {},
   "outputs": [
    {
     "data": {
      "text/plain": [
       "[('Audi', '-6000|0|319'),\n",
       " ('Audi', '-6000|0|356'),\n",
       " ('Audi', '-6000|0|357'),\n",
       " ('Audi', '-6000|0|356'),\n",
       " ('Bmw', '-6000|0|204'),\n",
       " ('Bmw', '-6000|0|204'),\n",
       " ('Citroen', '-6000|0|203'),\n",
       " ('Citroen', '-6000|0|491'),\n",
       " ('Ds', '-6000|0|251'),\n",
       " ('Hyundai', '-6000|0|205'),\n",
       " ('Hyundai', '-6000|0|205'),\n",
       " ('Jaguar', '-6000|0|271'),\n",
       " (None, None),\n",
       " (None, None),\n",
       " ('Kia', '-6000|0|214'),\n",
       " ('Kia', '-6000|0|214'),\n",
       " ('Mercedes', '-6000|0|291'),\n",
       " ('Mercedes', '-6000|0|411'),\n",
       " ('Mercedes', '-6000|0|411'),\n",
       " ('Mini', '-6000|0|199'),\n",
       " ('Nissan', '-6000|0|155'),\n",
       " ('Nissan', '-6000|0|177'),\n",
       " ('Peugeot', '-6000|0|221'),\n",
       " ('Peugeot', '-6000|0|241'),\n",
       " ('Peugeot', '-6000|0|203'),\n",
       " ('Renault', '-6000|0|206'),\n",
       " ('Renault', '-6000|0|206'),\n",
       " ('Renault', '-6000|0|206'),\n",
       " ('Skoda', '-6000|0|210'),\n",
       " ('Smart', '-6000|0|175'),\n",
       " ('Smart', '-6000|0|175'),\n",
       " ('Smart', '-6000|0|213'),\n",
       " ('Smart', '-6000|0|213'),\n",
       " ('Smart', '-6000|0|175'),\n",
       " ('Smart', '-6000|0|201'),\n",
       " ('Smart', '-6000|0|201'),\n",
       " ('Smart', '-6000|0|175'),\n",
       " ('Smart', '-6000|0|175'),\n",
       " ('Smart', '-6000|0|201'),\n",
       " ('Smart', '-6000|0|201'),\n",
       " ('Tesla', '-6000|0|235'),\n",
       " ('Tesla', '-6000|0|202'),\n",
       " ('Tesla', '-6000|0|202'),\n",
       " ('Tesla', '-6000|0|247'),\n",
       " ('Tesla', '-6000|0|247'),\n",
       " ('Tesla', '-6000|0|247'),\n",
       " ('Tesla', '-6000|0|247'),\n",
       " ('Tesla', '-6000|0|293'),\n",
       " ('Tesla', '-6000|0|293'),\n",
       " ('Volkswagen', '-6000|0|209'),\n",
       " ('Volkswagen', '-6000|0|209'),\n",
       " ('Volkswagen', '-6000|0|185'),\n",
       " ('Volkswagen', '-6000|0|185'),\n",
       " ('Hyundai', '0|26|43'),\n",
       " ('Kia', '0|29|47'),\n",
       " ('Mercedes', '0|30|74'),\n",
       " ('Mercedes', '0|30|74'),\n",
       " ('Mercedes', '0|30|62'),\n",
       " ('Peugeot', '0|31|67'),\n",
       " ('Peugeot', '0|31|67'),\n",
       " ('Skoda', '0|31|85'),\n",
       " ('Skoda', '0|31|85'),\n",
       " ('Skoda', '0|31|85'),\n",
       " ('Skoda', '0|31|85'),\n",
       " ('Skoda', '0|31|85'),\n",
       " ('Skoda', '0|31|85'),\n",
       " ('Skoda', '0|31|85'),\n",
       " ('Skoda', '0|31|85'),\n",
       " ('Volkswagen', '0|31|56'),\n",
       " ('Volkswagen', '0|31|56'),\n",
       " ('Volkswagen', '0|31|56'),\n",
       " ('Volkswagen', '0|31|56'),\n",
       " ('Volkswagen', '0|31|56'),\n",
       " ('Volkswagen', '0|31|56'),\n",
       " ('Volkswagen', '0|31|56'),\n",
       " ('Volkswagen', '0|31|56'),\n",
       " ('Toyota', '0|32|43'),\n",
       " ('Ds', '0|33|67'),\n",
       " ('Kia', '0|33|56'),\n",
       " ('Peugeot', '0|33|66'),\n",
       " ('Mercedes', '0|35|75'),\n",
       " ('Mercedes', '0|35|75'),\n",
       " ('Bmw', '0|36|60'),\n",
       " ('Bmw', '0|36|54'),\n",
       " ('Bmw', '0|36|54'),\n",
       " ('Mercedes', '0|37|78'),\n",
       " ('Bmw', '0|38|83'),\n",
       " ('Bmw', '0|38|83'),\n",
       " ('Mercedes', '0|38|75'),\n",
       " ('Mercedes', '0|38|75'),\n",
       " ('Mercedes', '0|38|78'),\n",
       " ('Mercedes', '0|38|78'),\n",
       " ('Mercedes', '0|39|75'),\n",
       " ('Volvo', '0|39|75'),\n",
       " ('Volvo', '0|39|64'),\n",
       " ('Audi', '0|40|54'),\n",
       " ('Audi', '0|40|54'),\n",
       " ('Mitsubishi', '0|40|98'),\n",
       " ('Mitsubishi', '0|40|98'),\n",
       " ('Volkswagen', '0|40|54'),\n",
       " ('Volkswagen', '0|40|54'),\n",
       " ('Volvo', '0|40|67'),\n",
       " ('Volvo', '0|40|78'),\n",
       " ('Volvo', '0|40|78'),\n",
       " ('Volvo', '0|41|75'),\n",
       " ('Audi', '0|42|105'),\n",
       " ('Bmw', '0|42|60'),\n",
       " ('Bmw', '0|42|66'),\n",
       " ('Bmw', '0|42|68'),\n",
       " ('Volvo', '0|42|67'),\n",
       " ('Volvo', '0|42|67'),\n",
       " ('Mini', '0|43|53'),\n",
       " ('Audi', '0|45|105'),\n",
       " ('Audi', '0|45|105'),\n",
       " ('Bmw', '0|45|83'),\n",
       " ('Bmw', '0|45|83'),\n",
       " ('Mercedes', '0|46|78'),\n",
       " ('Bmw', '0|47|54'),\n",
       " ('Bmw', '0|47|54'),\n",
       " ('Bmw', '0|47|54'),\n",
       " ('Mercedes', '0|47|78'),\n",
       " ('Bmw', '0|48|62'),\n",
       " ('Volvo', '0|48|75'),\n",
       " ('Volvo', '0|48|77'),\n",
       " ('Volvo', '0|48|77'),\n",
       " ('Audi', '0|49|105'),\n",
       " ('Bmw', '0|50|62'),\n",
       " ('Mercedes', '0|50|98'),\n",
       " ('Mercedes', '0|50|98'),\n",
       " ('Bmw', '0|52|80'),\n",
       " ('Bmw', '0|55|62'),\n",
       " ('Mercedes', '0|57|84'),\n",
       " ('Porsche', '0|58|75'),\n",
       " ('Porsche', '0|58|75'),\n",
       " ('Porsche', '0|58|84'),\n",
       " ('Porsche', '0|58|84'),\n",
       " ('Land', '0|69|78'),\n",
       " ('Land', '0|69|78'),\n",
       " ('Land', '0|69|78'),\n",
       " ('Land', '0|69|78'),\n",
       " ('Land', '0|69|78'),\n",
       " ('Porsche', '0|70|98'),\n",
       " ('Porsche', '0|70|98'),\n",
       " ('Porsche', '0|72|84'),\n",
       " ('Porsche', '0|72|84'),\n",
       " ('Porsche', '0|72|84'),\n",
       " ('Porsche', '0|72|84'),\n",
       " ('Porsche', '0|74|98'),\n",
       " ('Porsche', '0|74|98'),\n",
       " ('Bentley', '0|84|102'),\n",
       " ('Bentley', '0|84|102'),\n",
       " ('Porsche', '0|85|105'),\n",
       " ('Porsche', '0|85|105'),\n",
       " ('Mercedes', '6810|178|715'),\n",
       " ('Mercedes', '6810|178|715'),\n",
       " ('Mercedes', '6810|178|715'),\n",
       " ('Mercedes', '6810|178|715'),\n",
       " ('Mercedes', '6810|178|715'),\n",
       " ('Mercedes', '6810|178|715'),\n",
       " ('Mercedes', '6810|178|715'),\n",
       " ('Mercedes', '7073|179|715'),\n",
       " ('Mercedes', '7073|179|715'),\n",
       " ('Mercedes', '7073|179|715'),\n",
       " ('Mercedes', '7073|179|715'),\n",
       " ('Mercedes', '7073|179|715'),\n",
       " ('Mercedes', '7073|179|715'),\n",
       " ('Mercedes', '7073|179|715'),\n",
       " ('Mercedes', '7073|179|715'),\n",
       " ('Mercedes', '7073|179|715'),\n",
       " ('Mercedes', '7073|179|715'),\n",
       " ('Mercedes', '7073|179|715'),\n",
       " ('Mercedes', '7073|179|715'),\n",
       " ('Mercedes', '7073|179|715'),\n",
       " ('Mercedes', '7340|180|725'),\n",
       " ('Mercedes', '7340|180|725'),\n",
       " ('Mercedes', '7340|180|725'),\n",
       " ('Mercedes', '7340|180|725'),\n",
       " ('Mercedes', '7340|180|725'),\n",
       " ('Mercedes', '7340|180|725'),\n",
       " ('Mercedes', '7340|180|725'),\n",
       " ('Mercedes', '7340|180|725'),\n",
       " ('Mercedes', '7340|180|725'),\n",
       " ('Mercedes', '7340|180|725'),\n",
       " ('Mercedes', '7340|180|725'),\n",
       " ('Mercedes', '7340|180|725'),\n",
       " ('Mercedes', '7340|180|725'),\n",
       " ('Mercedes', '7340|180|725'),\n",
       " ('Mercedes', '7613|181|725'),\n",
       " ('Mercedes', '7613|181|725'),\n",
       " ('Mercedes', '7613|181|725'),\n",
       " ('Mercedes', '7613|181|725'),\n",
       " ('Mercedes', '7613|181|725'),\n",
       " ('Mercedes', '7613|181|725'),\n",
       " ('Mercedes', '7613|181|725'),\n",
       " ('Mercedes', '7890|182|725'),\n",
       " ('Mercedes', '7890|182|725'),\n",
       " ('Mercedes', '7890|182|725'),\n",
       " ('Mercedes', '7890|182|725'),\n",
       " ('Mercedes', '7890|182|725'),\n",
       " ('Mercedes', '7890|182|725'),\n",
       " ('Mercedes', '7890|182|725'),\n",
       " ('Mercedes', '7890|182|725'),\n",
       " ('Mercedes', '7890|182|725'),\n",
       " ('Mercedes', '7890|182|725'),\n",
       " ('Mercedes', '7890|182|725'),\n",
       " ('Mercedes', '7890|182|725'),\n",
       " ('Mercedes', '7890|182|725'),\n",
       " ('Mercedes', '7890|182|725'),\n",
       " ('Mercedes', '7890|182|725'),\n",
       " ('Mercedes', '7890|182|725'),\n",
       " ('Mercedes', '7890|182|725'),\n",
       " ('Mercedes', '7890|182|725'),\n",
       " ('Mercedes', '7890|182|725'),\n",
       " ('Mercedes', '7890|182|725'),\n",
       " ('Mercedes', '7890|182|725'),\n",
       " ('Mercedes', '7890|182|725'),\n",
       " ('Mercedes', '7890|182|725'),\n",
       " ('Mercedes', '7890|182|725'),\n",
       " ('Mercedes', '7890|182|725'),\n",
       " ('Mercedes', '7890|182|725'),\n",
       " ('Mercedes', '7890|182|725'),\n",
       " ('Mercedes', '8173|183|736'),\n",
       " ('Mercedes', '8173|183|736'),\n",
       " ('Mercedes', '8173|183|736'),\n",
       " ('Mercedes', '8173|183|736'),\n",
       " ('Mercedes', '8173|183|736'),\n",
       " ('Mercedes', '8173|183|736'),\n",
       " ('Mercedes', '8173|183|736'),\n",
       " ('Mercedes', '8173|183|736'),\n",
       " ('Mercedes', '8173|183|736'),\n",
       " ('Mercedes', '8173|183|736'),\n",
       " ('Mercedes', '8173|183|736'),\n",
       " ('Mercedes', '8173|183|736'),\n",
       " ('Mercedes', '8173|183|736'),\n",
       " ('Mercedes', '8173|183|736'),\n",
       " ('Mercedes', '8460|184|736'),\n",
       " ('Mercedes', '8460|184|736'),\n",
       " ('Mercedes', '8460|184|736'),\n",
       " ('Mercedes', '8460|184|736'),\n",
       " ('Mercedes', '8460|184|736'),\n",
       " ('Mercedes', '8460|184|736'),\n",
       " ('Mercedes', '8460|184|736'),\n",
       " ('Mercedes', '8460|184|736'),\n",
       " ('Mercedes', '8460|184|736'),\n",
       " ('Mercedes', '8460|184|736'),\n",
       " ('Mercedes', '8460|184|736'),\n",
       " ('Mercedes', '8460|184|736'),\n",
       " ('Mercedes', '8460|184|736'),\n",
       " ('Mercedes', '8460|184|736'),\n",
       " ('Mercedes', '8460|184|736'),\n",
       " ('Mercedes', '8460|184|736'),\n",
       " ('Mercedes', '8460|184|736'),\n",
       " ('Mercedes', '8753|185|736'),\n",
       " ('Mercedes', '8753|185|736'),\n",
       " ('Mercedes', '8753|185|736'),\n",
       " ('Mercedes', '8753|185|736'),\n",
       " ('Mercedes', '8753|185|736'),\n",
       " ('Mercedes', '8753|185|736'),\n",
       " ('Mercedes', '8753|185|736'),\n",
       " ('Mercedes', '8753|185|736'),\n",
       " ('Mercedes', '8753|185|736'),\n",
       " ('Mercedes', '8753|185|736'),\n",
       " ('Mercedes', '8753|185|736'),\n",
       " ('Mercedes', '8753|185|736'),\n",
       " ('Mercedes', '8753|185|736'),\n",
       " ('Mercedes', '8753|185|736'),\n",
       " ('Mercedes', '8753|186|746'),\n",
       " ('Mercedes', '8753|186|746'),\n",
       " ('Mercedes', '8753|186|746'),\n",
       " ('Mercedes', '8753|186|746'),\n",
       " ('Mercedes', '8753|186|746'),\n",
       " ('Mercedes', '8753|186|746'),\n",
       " ('Mercedes', '8753|186|746'),\n",
       " ('Mercedes', '8753|186|746'),\n",
       " ('Mercedes', '8753|186|746'),\n",
       " ('Mercedes', '8753|186|746'),\n",
       " ('Mercedes', '8753|186|746'),\n",
       " ('Mercedes', '8753|186|746'),\n",
       " ('Mercedes', '8753|186|746'),\n",
       " ('Mercedes', '8753|186|746'),\n",
       " ('Mercedes', '8753|187|746'),\n",
       " ('Mercedes', '8753|187|746'),\n",
       " ('Mercedes', '8753|187|746'),\n",
       " ('Mercedes', '8753|187|746'),\n",
       " ('Mercedes', '8753|187|746'),\n",
       " ('Mercedes', '8753|187|746'),\n",
       " ('Mercedes', '8753|187|746'),\n",
       " ('Mercedes', '8753|187|746'),\n",
       " ('Mercedes', '8753|187|746'),\n",
       " ('Mercedes', '8753|187|746'),\n",
       " ('Mercedes', '8753|187|746'),\n",
       " ('Mercedes', '8753|187|746'),\n",
       " ('Mercedes', '8753|187|746'),\n",
       " ('Mercedes', '8753|187|746'),\n",
       " ('Mercedes', '8753|187|746'),\n",
       " ('Mercedes', '8753|187|746'),\n",
       " ('Mercedes', '8753|187|746'),\n",
       " ('Mercedes', '8753|189|757'),\n",
       " ('Mercedes', '8753|189|757'),\n",
       " ('Mercedes', '8753|189|757'),\n",
       " ('Mercedes', '8753|189|757'),\n",
       " ('Mercedes', '8753|189|757'),\n",
       " ('Mercedes', '8753|189|757'),\n",
       " ('Mercedes', '8753|189|757'),\n",
       " ('Mercedes', '8753|189|757'),\n",
       " ('Mercedes', '8753|189|757'),\n",
       " ('Mercedes', '8753|189|757'),\n",
       " ('Mercedes', '8753|189|757'),\n",
       " ('Mercedes', '8753|189|757'),\n",
       " ('Mercedes', '8753|189|757'),\n",
       " ('Mercedes', '8753|189|757'),\n",
       " ('Mercedes', '8753|197|789'),\n",
       " ('Mercedes', '8753|197|789'),\n",
       " ('Mercedes', '8753|197|789'),\n",
       " ('Mercedes', '8753|197|789'),\n",
       " ('Mercedes', '8753|197|789'),\n",
       " ('Mercedes', '8753|197|789'),\n",
       " ('Mercedes', '8753|197|789'),\n",
       " ('Mercedes', '8753|197|789'),\n",
       " ('Mercedes', '8753|197|789'),\n",
       " ('Mercedes', '8753|197|789'),\n",
       " ('Mercedes', '8753|197|789'),\n",
       " ('Mercedes', '8753|197|789'),\n",
       " ('Mercedes', '8753|197|789'),\n",
       " ('Mercedes', '8753|197|789'),\n",
       " ('Mercedes', '8753|197|789'),\n",
       " ('Mercedes', '8753|197|789'),\n",
       " ('Mercedes', '8753|197|789'),\n",
       " ('Mercedes', '8753|197|789'),\n",
       " ('Mercedes', '8753|197|789'),\n",
       " ('Mercedes', '8753|197|789'),\n",
       " ('Mercedes', '8753|197|789'),\n",
       " ('Mercedes', '8753|197|789'),\n",
       " ('Mercedes', '8753|197|789'),\n",
       " ('Mercedes', '8753|197|789'),\n",
       " ('Mercedes', '8753|197|789'),\n",
       " ('Mercedes', '8753|199|799'),\n",
       " ('Mercedes', '8753|199|799'),\n",
       " ('Mercedes', '8753|199|799'),\n",
       " ('Mercedes', '8753|199|799'),\n",
       " ('Mercedes', '8753|200|799'),\n",
       " ('Mercedes', '8753|200|799'),\n",
       " ('Mercedes', '8753|200|799'),\n",
       " ('Mercedes', '8753|200|799'),\n",
       " ('Mercedes', '8753|200|799'),\n",
       " ('Mercedes', '8753|200|799'),\n",
       " ('Mercedes', '8753|200|799'),\n",
       " ('Mercedes', '8753|200|799'),\n",
       " ('Mercedes', '8753|200|799'),\n",
       " ('Mercedes', '8753|200|799'),\n",
       " ('Mercedes', '8753|200|799'),\n",
       " ('Mercedes', '8753|200|799'),\n",
       " ('Mercedes', '8753|200|799'),\n",
       " ('Mercedes', '8753|200|799'),\n",
       " ('Mercedes', '8753|200|799'),\n",
       " ('Mercedes', '8753|200|799'),\n",
       " ('Mercedes', '8753|200|799'),\n",
       " ('Mercedes', '8753|200|799'),\n",
       " ('Mercedes', '8753|200|799'),\n",
       " ('Mercedes', '8753|200|799'),\n",
       " ('Mercedes', '8753|200|799'),\n",
       " ('Nissan', '8753|200|810'),\n",
       " ('Nissan', '8753|200|810'),\n",
       " ('Nissan', '8753|200|810'),\n",
       " ('Nissan', '8753|200|810'),\n",
       " ('Nissan', '8753|200|810'),\n",
       " ('Nissan', '8753|200|810'),\n",
       " ('Nissan', '8753|200|810'),\n",
       " ('Nissan', '8753|200|810'),\n",
       " ('Mercedes', '8753|207|831'),\n",
       " ('Mercedes', '8753|207|831'),\n",
       " ('Mercedes', '8753|207|831'),\n",
       " ('Mercedes', '8753|207|831'),\n",
       " ('Mercedes', '8753|210|841'),\n",
       " ('Mercedes', '8753|210|841'),\n",
       " ('Mercedes', '8753|210|841'),\n",
       " ('Mercedes', '8753|210|841'),\n",
       " ('Mercedes', '8753|214|862'),\n",
       " ('Mercedes', '8753|214|862'),\n",
       " ('Mercedes', '8753|214|862'),\n",
       " ('Mercedes', '8753|216|862'),\n",
       " ('Mercedes', '8753|216|862'),\n",
       " ('Mercedes', '8753|216|862'),\n",
       " ('Mercedes', '8753|217|873'),\n",
       " ('Mercedes', '8753|217|873'),\n",
       " ('Mercedes', '8753|217|873'),\n",
       " ('Mercedes', '8753|218|873'),\n",
       " ('Mercedes', '8753|218|873'),\n",
       " ('Mercedes', '8753|218|873'),\n",
       " ('Mercedes', '8753|219|873'),\n",
       " ('Mercedes', '8753|219|873'),\n",
       " ('Mercedes', '8753|219|873'),\n",
       " ('Mercedes', '8753|219|873'),\n",
       " ('Mercedes', '8753|219|873'),\n",
       " ('Mercedes', '8753|221|883'),\n",
       " ('Mercedes', '8753|221|883'),\n",
       " ('Mercedes', '8753|221|883'),\n",
       " ('Mercedes', '8753|222|883'),\n",
       " ('Mercedes', '8753|222|883'),\n",
       " ('Mercedes', '8753|229|915'),\n",
       " ('Mercedes', '8753|229|915'),\n",
       " ('Mercedes', '8753|232|925'),\n",
       " ('Mercedes', '8753|232|925'),\n",
       " ('Mercedes', '8753|237|946'),\n",
       " ('Mercedes', '8753|237|946'),\n",
       " ('Mercedes', '8753|237|946'),\n",
       " ('Mercedes', '8753|240|957'),\n",
       " ('Mercedes', '8753|240|957'),\n",
       " ('Mercedes', '8753|240|957'),\n",
       " ('Mercedes', '8753|240|957'),\n",
       " ('Mercedes', '8753|240|957'),\n",
       " ('Mercedes', '8753|243|978'),\n",
       " ('Mercedes', '8753|243|978'),\n",
       " ('Mercedes', '8753|243|967'),\n",
       " ('Mercedes', '8753|243|967'),\n",
       " ('Mercedes', '8753|243|978'),\n",
       " ('Mercedes', '8753|245|978'),\n",
       " ('Mercedes', '8753|245|978'),\n",
       " ('Mercedes', '8753|246|988'),\n",
       " ('Mercedes', '8753|246|988'),\n",
       " ('Mercedes', '8753|246|988'),\n",
       " ('Mercedes', '8753|249|988'),\n",
       " ('Mercedes', '8753|249|988'),\n",
       " ('Mercedes', '8753|250|999'),\n",
       " ('Mercedes', '8753|250|999'),\n",
       " ('Mercedes', '8753|252|1009'),\n",
       " ('Mercedes', '8753|252|1009'),\n",
       " ('Mercedes', '8753|252|1009'),\n",
       " ('Mercedes', '8753|252|1009'),\n",
       " ('Mercedes', '8753|252|1009'),\n",
       " ('Mercedes', '8753|255|1020'),\n",
       " ('Mercedes', '8753|255|1020'),\n",
       " ('Mercedes', '8753|255|1020'),\n",
       " ('Mercedes', '8753|260|1041'),\n",
       " ('Mercedes', '8753|260|1041'),\n",
       " ('Mercedes', '8753|262|1051'),\n",
       " ('Mercedes', '8753|262|1051')]"
      ]
     },
     "execution_count": 298,
     "metadata": {},
     "output_type": "execute_result"
    }
   ],
   "source": [
    "co2_mapped.collect()"
   ]
  }
 ],
 "metadata": {
  "kernelspec": {
   "display_name": "Python 3",
   "language": "python",
   "name": "python3"
  },
  "language_info": {
   "codemirror_mode": {
    "name": "ipython",
    "version": 3
   },
   "file_extension": ".py",
   "mimetype": "text/x-python",
   "name": "python",
   "nbconvert_exporter": "python",
   "pygments_lexer": "ipython3",
   "version": "3.6.8"
  }
 },
 "nbformat": 4,
 "nbformat_minor": 5
}
