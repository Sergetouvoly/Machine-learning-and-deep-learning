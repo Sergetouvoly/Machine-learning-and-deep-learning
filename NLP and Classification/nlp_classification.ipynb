{
 "cells": [
  {
   "attachments": {},
   "cell_type": "markdown",
   "metadata": {
    "id": "6FWeD_Wdq6dJ"
   },
   "source": [
    "# Classification des critiques des films\n",
    "\n",
    "* Dataset: [source sur kaggle](https://www.kaggle.com/datasets/lakshmi25npathi/imdb-dataset-of-50k-movie-reviews) ou [lien stanford](http://ai.stanford.edu/~amaas/data/sentiment/)"
   ]
  },
  {
   "cell_type": "code",
   "execution_count": 7,
   "metadata": {},
   "outputs": [],
   "source": [
    "import pandas as pd\n",
    "import numpy as np\n",
    "import matplotlib.pyplot as plt\n",
    "\n",
    "import seaborn as sns\n",
    "\n",
    "%config IPCompleter.greedy = True\n",
    "%matplotlib inline"
   ]
  },
  {
   "cell_type": "code",
   "execution_count": 16,
   "metadata": {},
   "outputs": [],
   "source": [
    "import pandas as pd\n",
    "import matplotlib.pyplot as plt\n",
    "import re\n",
    "import nltk\n",
    "from nltk.tokenize import word_tokenize\n",
    "import seaborn as sns\n",
    "import warnings\n",
    "warnings.filterwarnings('ignore')\n",
    "from nltk.stem import PorterStemmer, WordNetLemmatizer\n",
    "from nltk.corpus import stopwords\n",
    "import contractions\n"
   ]
  },
  {
   "cell_type": "code",
   "execution_count": 3,
   "metadata": {
    "id": "jt_-J8ONq6dV"
   },
   "outputs": [],
   "source": [
    "# ! pip install kaggle\n",
    "# To use Kaggle API you need first to get your token:\n",
    "# - log in to kaggle.com\n",
    "# - go to your profile page\n",
    "# - scroll down to the API section\n",
    "# - click \"Create new API tocken\" to get your kaggle.json file"
   ]
  },
  {
   "cell_type": "code",
   "execution_count": 4,
   "metadata": {},
   "outputs": [
    {
     "name": "stderr",
     "output_type": "stream",
     "text": [
      "'kaggle' is not recognized as an internal or external command,\n",
      "operable program or batch file.\n"
     ]
    }
   ],
   "source": [
    "! kaggle datasets download -d lakshmi25npathi/imdb-dataset-of-50k-movie-reviews"
   ]
  },
  {
   "cell_type": "code",
   "execution_count": 6,
   "metadata": {},
   "outputs": [],
   "source": [
    "# import zipfile, os\n",
    "\n",
    "# data_file = \"imdb-dataset-of-50k-movie-reviews.zip\"\n",
    "# with zipfile.ZipFile(data_file,\"r\") as zip_ref:\n",
    "#     zip_ref.extractall(\"data/\")\n",
    "# os.remove(data_file)"
   ]
  },
  {
   "cell_type": "code",
   "execution_count": 9,
   "metadata": {},
   "outputs": [
    {
     "data": {
      "text/plain": [
       "(50000, 2)"
      ]
     },
     "execution_count": 9,
     "metadata": {},
     "output_type": "execute_result"
    }
   ],
   "source": [
    "df = pd.read_csv(\"./data/IMDB dataset.csv\")\n",
    "df.shape"
   ]
  },
  {
   "cell_type": "code",
   "execution_count": 10,
   "metadata": {
    "colab": {
     "base_uri": "https://localhost:8080/",
     "height": 327
    },
    "id": "bTx7h0vUq6df",
    "outputId": "35bc4675-7503-42ec-da0b-07b6c5b1b5f1"
   },
   "outputs": [
    {
     "data": {
      "text/html": [
       "<div>\n",
       "<style scoped>\n",
       "    .dataframe tbody tr th:only-of-type {\n",
       "        vertical-align: middle;\n",
       "    }\n",
       "\n",
       "    .dataframe tbody tr th {\n",
       "        vertical-align: top;\n",
       "    }\n",
       "\n",
       "    .dataframe thead th {\n",
       "        text-align: right;\n",
       "    }\n",
       "</style>\n",
       "<table border=\"1\" class=\"dataframe\">\n",
       "  <thead>\n",
       "    <tr style=\"text-align: right;\">\n",
       "      <th></th>\n",
       "      <th>review</th>\n",
       "      <th>sentiment</th>\n",
       "    </tr>\n",
       "  </thead>\n",
       "  <tbody>\n",
       "    <tr>\n",
       "      <th>0</th>\n",
       "      <td>One of the other reviewers has mentioned that ...</td>\n",
       "      <td>positive</td>\n",
       "    </tr>\n",
       "    <tr>\n",
       "      <th>1</th>\n",
       "      <td>A wonderful little production. &lt;br /&gt;&lt;br /&gt;The...</td>\n",
       "      <td>positive</td>\n",
       "    </tr>\n",
       "    <tr>\n",
       "      <th>2</th>\n",
       "      <td>I thought this was a wonderful way to spend ti...</td>\n",
       "      <td>positive</td>\n",
       "    </tr>\n",
       "    <tr>\n",
       "      <th>3</th>\n",
       "      <td>Basically there's a family where a little boy ...</td>\n",
       "      <td>negative</td>\n",
       "    </tr>\n",
       "    <tr>\n",
       "      <th>4</th>\n",
       "      <td>Petter Mattei's \"Love in the Time of Money\" is...</td>\n",
       "      <td>positive</td>\n",
       "    </tr>\n",
       "  </tbody>\n",
       "</table>\n",
       "</div>"
      ],
      "text/plain": [
       "                                              review sentiment\n",
       "0  One of the other reviewers has mentioned that ...  positive\n",
       "1  A wonderful little production. <br /><br />The...  positive\n",
       "2  I thought this was a wonderful way to spend ti...  positive\n",
       "3  Basically there's a family where a little boy ...  negative\n",
       "4  Petter Mattei's \"Love in the Time of Money\" is...  positive"
      ]
     },
     "execution_count": 10,
     "metadata": {},
     "output_type": "execute_result"
    }
   ],
   "source": [
    "df.head(5)"
   ]
  },
  {
   "cell_type": "code",
   "execution_count": 11,
   "metadata": {},
   "outputs": [
    {
     "data": {
      "text/plain": [
       "positive    25000\n",
       "negative    25000\n",
       "Name: sentiment, dtype: int64"
      ]
     },
     "execution_count": 11,
     "metadata": {},
     "output_type": "execute_result"
    }
   ],
   "source": [
    "df['sentiment'].value_counts()"
   ]
  },
  {
   "attachments": {},
   "cell_type": "markdown",
   "metadata": {
    "id": "Hjy98RUZQ5-n"
   },
   "source": [
    "TODO :\n",
    "\n",
    "* Nettoyez les reviews.\n",
    "* Vectorisez les reviews.\n",
    "* Choisissez la métrique pour évaluer le modèle.\n",
    "* Utilisez les algorithmes suivants : `LogisticRegression`, `RandomForestClassifier`, `LinearSVC`, `MultinomialNB`\n",
    "* Mesurez la qualité des modèles sur les ensembles d'entraînement et de test\n",
    "* Comparez les prédictions de vos modèles sur une dizaine de reviews de votre choix"
   ]
  },
  {
   "cell_type": "code",
   "execution_count": 12,
   "metadata": {},
   "outputs": [
    {
     "data": {
      "image/png": "[encoded data removed]",
      "text/plain": [
       "<Figure size 432x288 with 1 Axes>"
      ]
     },
     "metadata": {
      "needs_background": "light"
     },
     "output_type": "display_data"
    },
    {
     "data": {
      "text/plain": [
       "<Figure size 1152x504 with 0 Axes>"
      ]
     },
     "metadata": {},
     "output_type": "display_data"
    }
   ],
   "source": [
    "sns.countplot(df['sentiment'])\n",
    "plt.figure(figsize=(16,7))\n",
    "plt.show()"
   ]
  },
  {
   "attachments": {},
   "cell_type": "markdown",
   "metadata": {},
   "source": [
    "## Data cleaning"
   ]
  },
  {
   "cell_type": "code",
   "execution_count": 37,
   "metadata": {},
   "outputs": [],
   "source": [
    "# ! pip install contractions"
   ]
  },
  {
   "cell_type": "code",
   "execution_count": 17,
   "metadata": {},
   "outputs": [],
   "source": [
    "def cleaning_sentiment(df,col_name):\n",
    "    porter = PorterStemmer()\n",
    "    stop_words = set(stopwords.words(\"english\"))\n",
    "    w = df[col_name].apply(lambda x :x.lower())\n",
    "    w = w.apply(lambda x: re.sub('(<.*?>)|(\\n)|([^\\w\\s\\.\\,])|([_])|([.])|([,])|(\\s\\s+)|([ا-ي])','',x))\n",
    "    w = w.apply(lambda x: contractions.fix(x))\n",
    "    w = w.apply(lambda x: ' '.join([porter.stem(i) for i in word_tokenize(x) if i not in stop_words]))\n",
    "    return w"
   ]
  },
  {
   "attachments": {},
   "cell_type": "markdown",
   "metadata": {},
   "source": [
    "\n",
    "* Chaque mot est transformer en miniscule avec lower.\n",
    "* on utilise une expression reguliere pour remplacer  : les balise html, les retour a la ligne, les caractere spéciaux qui ne sont pas des point ou des virgule  (par exemple, !, ?, :) ,les underscore, les points, les virgules, les espace multiple et les mots non anglais par un espace vide\n",
    "* on supprime toutes les contraction (example: can't devient can not et it's devient it is) .\n",
    "* chaque mot qui n'est pas un stop_word (and, or, but, etc) est tokenizer et on retour sa basse (ex : terreste devient terre)\n"
   ]
  },
  {
   "cell_type": "code",
   "execution_count": 18,
   "metadata": {},
   "outputs": [],
   "source": [
    "df['review'] = cleaning_sentiment(df,'review')"
   ]
  },
  {
   "cell_type": "code",
   "execution_count": 15,
   "metadata": {},
   "outputs": [
    {
     "data": {
      "text/plain": [
       "0    One of the other reviewers has mentioned that ...\n",
       "1    A wonderful little production. <br /><br />The...\n",
       "Name: review, dtype: object"
      ]
     },
     "execution_count": 15,
     "metadata": {},
     "output_type": "execute_result"
    }
   ],
   "source": [
    "df['review'][:2]"
   ]
  },
  {
   "attachments": {},
   "cell_type": "markdown",
   "metadata": {},
   "source": [
    "## Vectorisation avec TF-IDF"
   ]
  },
  {
   "cell_type": "code",
   "execution_count": 43,
   "metadata": {},
   "outputs": [],
   "source": [
    "from sklearn.feature_extraction.text import TfidfVectorizer\n",
    "from sklearn.model_selection import train_test_split"
   ]
  },
  {
   "cell_type": "code",
   "execution_count": 240,
   "metadata": {},
   "outputs": [
    {
     "name": "stdout",
     "output_type": "stream",
     "text": [
      " train (45000,)\n",
      " test (5000,)\n"
     ]
    }
   ],
   "source": [
    "X = df['review']\n",
    "y = df['sentiment']\n",
    "\n",
    "X_train, X_test, y_train, y_test = train_test_split(X, y, test_size=0.1, random_state=42)\n",
    "\n",
    "print(f' train {X_train.shape}')\n",
    "print(f' test {X_test.shape}')"
   ]
  },
  {
   "cell_type": "code",
   "execution_count": 241,
   "metadata": {},
   "outputs": [],
   "source": [
    "tfidf_vector = TfidfVectorizer(stop_words='english', max_features=None, max_df=0.5, min_df=2, ngram_range=(1,1))\n",
    "\n",
    "X_train = tfidf_vector.fit_transform(X_train)\n",
    "X_test = tfidf_vector.transform(X_test)"
   ]
  },
  {
   "attachments": {},
   "cell_type": "markdown",
   "metadata": {},
   "source": [
    "## Model"
   ]
  },
  {
   "attachments": {},
   "cell_type": "markdown",
   "metadata": {},
   "source": [
    "## 1- Logistic regression"
   ]
  },
  {
   "cell_type": "code",
   "execution_count": 242,
   "metadata": {},
   "outputs": [],
   "source": [
    "from sklearn.linear_model import LogisticRegression\n",
    "from sklearn.metrics import classification_report"
   ]
  },
  {
   "cell_type": "code",
   "execution_count": 243,
   "metadata": {},
   "outputs": [],
   "source": [
    "lr = LogisticRegression(random_state=42)\n",
    "lr = lr.fit(X_train, y_train)\n",
    "y_pred = lr.predict(X_test)"
   ]
  },
  {
   "cell_type": "code",
   "execution_count": 244,
   "metadata": {},
   "outputs": [
    {
     "name": "stdout",
     "output_type": "stream",
     "text": [
      "              precision    recall  f1-score   support\n",
      "\n",
      "    negative       0.90      0.87      0.89      2481\n",
      "    positive       0.88      0.91      0.89      2519\n",
      "\n",
      "    accuracy                           0.89      5000\n",
      "   macro avg       0.89      0.89      0.89      5000\n",
      "weighted avg       0.89      0.89      0.89      5000\n",
      "\n"
     ]
    }
   ],
   "source": [
    "print(classification_report(y_test, y_pred))"
   ]
  },
  {
   "cell_type": "code",
   "execution_count": 245,
   "metadata": {},
   "outputs": [
    {
     "name": "stdout",
     "output_type": "stream",
     "text": [
      " feature : 52420 : {'worst'}\n",
      " feature : 50984 : {'wast'}\n",
      " feature : 4079 : {'aw'}\n",
      " feature : 4332 : {'bad'}\n",
      " feature : 19864 : {'great'}\n",
      " feature : 15646 : {'excel'}\n",
      " feature : 6437 : {'bore'}\n",
      " feature : 36341 : {'poor'}\n",
      " feature : 46420 : {'terribl'}\n",
      " feature : 32771 : {'noth'}\n"
     ]
    }
   ],
   "source": [
    "coef_abs = abs(lr.coef_[0]).tolist()\n",
    "feature_scores = pd.Series(coef_abs).sort_values(ascending=False)\n",
    "lr_best_index = feature_scores[:10].index\n",
    "\n",
    "\n",
    "for index in lr_best_index:\n",
    "    print(f' feature : {index} :', {tfidf_vector.get_feature_names_out()[index]})\n"
   ]
  },
  {
   "attachments": {},
   "cell_type": "markdown",
   "metadata": {},
   "source": [
    "## 2-Random forest"
   ]
  },
  {
   "cell_type": "code",
   "execution_count": 246,
   "metadata": {},
   "outputs": [],
   "source": [
    "from sklearn.ensemble import RandomForestClassifier"
   ]
  },
  {
   "cell_type": "code",
   "execution_count": 247,
   "metadata": {},
   "outputs": [],
   "source": [
    "rf = RandomForestClassifier(min_samples_split=5 ,max_depth=10, random_state=42)\n",
    "rf = rf.fit(X_train, y_train)\n",
    "y_pred2 = rf.predict(X_test)"
   ]
  },
  {
   "cell_type": "code",
   "execution_count": 248,
   "metadata": {},
   "outputs": [
    {
     "name": "stdout",
     "output_type": "stream",
     "text": [
      "              precision    recall  f1-score   support\n",
      "\n",
      "    negative       0.86      0.79      0.83      2481\n",
      "    positive       0.81      0.87      0.84      2519\n",
      "\n",
      "    accuracy                           0.83      5000\n",
      "   macro avg       0.84      0.83      0.83      5000\n",
      "weighted avg       0.84      0.83      0.83      5000\n",
      "\n"
     ]
    }
   ],
   "source": [
    "print(classification_report(y_test, y_pred2))"
   ]
  },
  {
   "cell_type": "code",
   "execution_count": 249,
   "metadata": {},
   "outputs": [
    {
     "name": "stdout",
     "output_type": "stream",
     "text": [
      " feature : 52420 : {'worst'}\n",
      " feature : 4332 : {'bad'}\n",
      " feature : 19864 : {'great'}\n",
      " feature : 4079 : {'aw'}\n",
      " feature : 6437 : {'bore'}\n",
      " feature : 46420 : {'terribl'}\n",
      " feature : 15646 : {'excel'}\n",
      " feature : 50984 : {'wast'}\n",
      " feature : 35285 : {'perfect'}\n",
      " feature : 30559 : {'money'}\n"
     ]
    }
   ],
   "source": [
    "# Obtenir les index des importances de fonctionnalités pour chaque classe\n",
    "feature_scores = pd.Series(rf.feature_importances_).sort_values(ascending=False)\n",
    "rf_best_index = feature_scores[:10].index\n",
    "for index in rf_best_index:\n",
    "    print(f' feature : {index} :', {tfidf_vector.get_feature_names_out()[index]})\n"
   ]
  },
  {
   "attachments": {},
   "cell_type": "markdown",
   "metadata": {},
   "source": [
    "## 3-LinearSV"
   ]
  },
  {
   "cell_type": "code",
   "execution_count": 250,
   "metadata": {},
   "outputs": [],
   "source": [
    "from sklearn.svm import LinearSVC"
   ]
  },
  {
   "cell_type": "code",
   "execution_count": 251,
   "metadata": {},
   "outputs": [],
   "source": [
    "svm = LinearSVC(random_state=42)\n",
    "svm = svm.fit(X_train, y_train)\n",
    "y_pred3 = svm.predict(X_test)"
   ]
  },
  {
   "cell_type": "code",
   "execution_count": 252,
   "metadata": {},
   "outputs": [
    {
     "name": "stdout",
     "output_type": "stream",
     "text": [
      "              precision    recall  f1-score   support\n",
      "\n",
      "    negative       0.91      0.88      0.89      2481\n",
      "    positive       0.89      0.91      0.90      2519\n",
      "\n",
      "    accuracy                           0.90      5000\n",
      "   macro avg       0.90      0.90      0.90      5000\n",
      "weighted avg       0.90      0.90      0.90      5000\n",
      "\n"
     ]
    }
   ],
   "source": [
    "print(classification_report(y_test, y_pred3))"
   ]
  },
  {
   "cell_type": "code",
   "execution_count": 253,
   "metadata": {},
   "outputs": [
    {
     "name": "stdout",
     "output_type": "stream",
     "text": [
      " feature : 52420 : {'worst'}\n",
      " feature : 50984 : {'wast'}\n",
      " feature : 989 : {'710'}\n",
      " feature : 801 : {'410'}\n",
      " feature : 4079 : {'aw'}\n",
      " feature : 1056 : {'810'}\n",
      " feature : 15646 : {'excel'}\n",
      " feature : 6437 : {'bore'}\n",
      " feature : 36341 : {'poor'}\n",
      " feature : 12882 : {'disappoint'}\n"
     ]
    }
   ],
   "source": [
    "coef_abs = abs(svm.coef_[0]).tolist()\n",
    "feature_scores = pd.Series(coef_abs).sort_values(ascending=False)\n",
    "svm_best_index = feature_scores[:10].index\n",
    "\n",
    "\n",
    "for index in svm_best_index:\n",
    "    print(f' feature : {index} :', {tfidf_vector.get_feature_names_out()[index]})\n"
   ]
  },
  {
   "attachments": {},
   "cell_type": "markdown",
   "metadata": {},
   "source": [
    "## 4- MultinomialNB"
   ]
  },
  {
   "cell_type": "code",
   "execution_count": 254,
   "metadata": {},
   "outputs": [],
   "source": [
    "from sklearn.naive_bayes import MultinomialNB\n"
   ]
  },
  {
   "cell_type": "code",
   "execution_count": 255,
   "metadata": {},
   "outputs": [],
   "source": [
    "nb = MultinomialNB()\n",
    "nb = nb.fit(X_train, y_train)\n",
    "y_pred4 = nb.predict(X_test)"
   ]
  },
  {
   "cell_type": "code",
   "execution_count": 256,
   "metadata": {},
   "outputs": [
    {
     "name": "stdout",
     "output_type": "stream",
     "text": [
      "              precision    recall  f1-score   support\n",
      "\n",
      "    negative       0.86      0.86      0.86      2481\n",
      "    positive       0.87      0.87      0.87      2519\n",
      "\n",
      "    accuracy                           0.87      5000\n",
      "   macro avg       0.87      0.87      0.87      5000\n",
      "weighted avg       0.87      0.87      0.87      5000\n",
      "\n"
     ]
    }
   ],
   "source": [
    "print(classification_report(y_test, y_pred4))"
   ]
  },
  {
   "cell_type": "code",
   "execution_count": 257,
   "metadata": {},
   "outputs": [
    {
     "name": "stdout",
     "output_type": "stream",
     "text": [
      " feature : 5935 : {'bleacher'}\n",
      " feature : 51229 : {'weatherbr'}\n",
      " feature : 23105 : {'impecuni'}\n",
      " feature : 14661 : {'ellari'}\n",
      " feature : 6990 : {'broceliand'}\n",
      " feature : 32083 : {'neptun'}\n",
      " feature : 32082 : {'nepotist'}\n",
      " feature : 6994 : {'brocéliand'}\n",
      " feature : 6999 : {'brodzki'}\n",
      " feature : 6984 : {'broadmind'}\n"
     ]
    }
   ],
   "source": [
    "coef_abs = abs(nb.coef_[0]).tolist()\n",
    "feature_scores = pd.Series(coef_abs).sort_values(ascending=False)\n",
    "nb_best_index = feature_scores[:10].index\n",
    "\n",
    "\n",
    "for index in nb_best_index:\n",
    "    print(f' feature : {index} :', {tfidf_vector.get_feature_names_out()[index]})\n"
   ]
  },
  {
   "cell_type": "code",
   "execution_count": null,
   "metadata": {},
   "outputs": [],
   "source": []
  },
  {
   "cell_type": "code",
   "execution_count": null,
   "metadata": {},
   "outputs": [],
   "source": []
  }
 ],
 "metadata": {
  "colab": {
   "provenance": []
  },
  "kernelspec": {
   "display_name": "Python 3 (ipykernel)",
   "language": "python",
   "name": "python3"
  },
  "language_info": {
   "codemirror_mode": {
    "name": "ipython",
    "version": 3
   },
   "file_extension": ".py",
   "mimetype": "text/x-python",
   "name": "python",
   "nbconvert_exporter": "python",
   "pygments_lexer": "ipython3",
   "version": "3.9.12"
  }
 },
 "nbformat": 4,
 "nbformat_minor": 4
}
